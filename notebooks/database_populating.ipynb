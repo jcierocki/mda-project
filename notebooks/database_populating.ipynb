{
 "cells": [
  {
   "cell_type": "code",
   "execution_count": 73,
   "metadata": {},
   "outputs": [],
   "source": [
    "import pandas as pd\n",
    "import numpy as np\n",
    "from pymongo import MongoClient"
   ]
  },
  {
   "cell_type": "code",
   "execution_count": null,
   "metadata": {},
   "outputs": [],
   "source": [
    "client = MongoClient('localhost', 27017)"
   ]
  },
  {
   "cell_type": "markdown",
   "metadata": {},
   "source": [
    "## Cases and deaths\n",
    "- by day and county\n",
    "- prepared by Aleksanda"
   ]
  },
  {
   "cell_type": "markdown",
   "metadata": {},
   "source": [
    "### CSV to Parquet conversion"
   ]
  },
  {
   "cell_type": "code",
   "execution_count": null,
   "metadata": {},
   "outputs": [],
   "source": [
    "# pd.read_csv(\n",
    "#     \"../data/cases_daily_csv.csv\", \n",
    "#     usecols=[\"date\", \"fips\", \"cases\", \"deaths\"]\n",
    "# ).to_parquet(\n",
    "#     \"../data/cases_dailt.parquet\",\n",
    "#     engine=\"pyarrow\", \n",
    "#     compression=\"brotli\"\n",
    "# )"
   ]
  },
  {
   "cell_type": "code",
   "execution_count": null,
   "metadata": {},
   "outputs": [],
   "source": [
    "df_cases = pd.read_parquet(\"../data/cases_daily.parquet\")\n",
    "df_cases.fips = df_cases.fips.astype(str).str.zfill(5)\n",
    "df_cases.head()"
   ]
  },
  {
   "cell_type": "code",
   "execution_count": null,
   "metadata": {},
   "outputs": [],
   "source": [
    "data_dict_by_fips = [{\"fips\": fips, \"data\": df.drop(columns=[\"fips\"]).to_dict(\"records\")} for fips, df in df_cases.groupby(\"fips\")]"
   ]
  },
  {
   "cell_type": "code",
   "execution_count": null,
   "metadata": {},
   "outputs": [],
   "source": [
    "client[\"MDAProjectDatabase\"][\"daily_covid_cases\"].insert_many(data_dict_by_fips)"
   ]
  },
  {
   "cell_type": "markdown",
   "metadata": {},
   "source": [
    "## Socio-economic data"
   ]
  },
  {
   "cell_type": "code",
   "execution_count": null,
   "metadata": {},
   "outputs": [],
   "source": [
    "df_socio_economic = pd.read_csv(\"../data/non_epidemic_data.csv\")\n",
    "print(df_socio_economic.shape)\n",
    "df_socio_economic.head()"
   ]
  },
  {
   "cell_type": "code",
   "execution_count": null,
   "metadata": {},
   "outputs": [],
   "source": [
    "fipses_cases = pd.read_csv(\"../data/county_daily_csv.csv\", usecols=[\"fips\"]).fips.values\n",
    "\n",
    "df_socio_economic = df_socio_economic.loc[df_socio_economic.fips.isin(fipses_cases), :]\n",
    "df_socio_economic.shape"
   ]
  },
  {
   "cell_type": "code",
   "execution_count": null,
   "metadata": {},
   "outputs": [],
   "source": [
    "client[\"MDAProjectDatabase\"][\"socio_economic_data\"].insert_many(df_socio_economic.drop(columns=[\"area\"]).to_dict(\"records\"))"
   ]
  },
  {
   "cell_type": "markdown",
   "metadata": {},
   "source": [
    "## FIPS dictionary"
   ]
  },
  {
   "cell_type": "code",
   "execution_count": null,
   "metadata": {},
   "outputs": [],
   "source": [
    "df_fips = pd.read_csv(\"../data/fips.csv\")\n",
    "\n",
    "df_fips_states = df_fips.loc[df_fips.fips.values % 1000 == 0, :].copy()\n",
    "df_fips_states.loc[:, \"fips_state\"] = [f\"{int(fips / 1000):02d}\" for fips in df_fips_states.fips]\n",
    "df_fips_states = df_fips_states.drop(columns=[\"fips\"]).rename(columns={\"area\": \"state_name\"})\n",
    "\n",
    "df_fips = df_fips.loc[df_fips.fips.values % 1000 != 0, :]\n",
    "df_fips.loc[:, \"fips_state\"] = [f\"{fips:05d}\"[:2] for fips in df_fips.fips]\n",
    "\n",
    "df_fips = pd.merge(\n",
    "    df_fips,\n",
    "    df_fips_states,\n",
    "    on=\"fips_state\"\n",
    ").drop(columns=[\"fips_state\"])\n",
    "\n",
    "df_fips.fips = df_fips.fips.astype(str).str.zfill(5)\n",
    "\n",
    "df_fips.head()"
   ]
  },
  {
   "cell_type": "code",
   "execution_count": null,
   "metadata": {},
   "outputs": [],
   "source": [
    "df_fips.head().to_dict(\"records\")"
   ]
  },
  {
   "cell_type": "code",
   "execution_count": null,
   "metadata": {},
   "outputs": [],
   "source": [
    "client[\"MDAProjectDatabase\"][\"fips_codes\"].insert_many(df_fips.to_dict(\"records\"))"
   ]
  },
  {
   "cell_type": "code",
   "execution_count": null,
   "metadata": {},
   "outputs": [],
   "source": []
  }
 ],
 "metadata": {
  "interpreter": {
   "hash": "e99b5d9fc574ab35b2ac713fada23b806890ae47709c8d1a7c97606efc7fbf3d"
  },
  "kernelspec": {
   "display_name": "Python 3.9.5 ('mda-project')",
   "language": "python",
   "name": "python3"
  },
  "language_info": {
   "codemirror_mode": {
    "name": "ipython",
    "version": 3
   },
   "file_extension": ".py",
   "mimetype": "text/x-python",
   "name": "python",
   "nbconvert_exporter": "python",
   "pygments_lexer": "ipython3",
   "version": "3.9.5"
  },
  "orig_nbformat": 4
 },
 "nbformat": 4,
 "nbformat_minor": 2
}
