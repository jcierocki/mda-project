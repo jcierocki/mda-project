{
 "cells": [
  {
   "cell_type": "code",
   "execution_count": 2,
   "metadata": {},
   "outputs": [],
   "source": [
    "import pandas as pd\n",
    "import numpy as np\n",
    "from pymongo import MongoClient"
   ]
  },
  {
   "cell_type": "code",
   "execution_count": 3,
   "metadata": {},
   "outputs": [],
   "source": [
    "client = MongoClient('localhost', 27017)\n",
    "db = client[\"MDAProjectDatabase\"]"
   ]
  },
  {
   "cell_type": "markdown",
   "metadata": {},
   "source": [
    "## Cases and deaths\n",
    "- by day and county\n",
    "- prepared by Aleksanda"
   ]
  },
  {
   "cell_type": "markdown",
   "metadata": {},
   "source": [
    "### CSV to Parquet conversion"
   ]
  },
  {
   "cell_type": "code",
   "execution_count": null,
   "metadata": {},
   "outputs": [],
   "source": [
    "# pd.read_csv(\n",
    "#     \"../data/cases_daily_csv.csv\", \n",
    "#     usecols=[\"date\", \"fips\", \"cases\", \"deaths\"]\n",
    "# ).to_parquet(\n",
    "#     \"../data/cases_dailt.parquet\",\n",
    "#     engine=\"pyarrow\", \n",
    "#     compression=\"brotli\"\n",
    "# )"
   ]
  },
  {
   "cell_type": "code",
   "execution_count": 24,
   "metadata": {},
   "outputs": [
    {
     "data": {
      "text/html": [
       "<div>\n",
       "<style scoped>\n",
       "    .dataframe tbody tr th:only-of-type {\n",
       "        vertical-align: middle;\n",
       "    }\n",
       "\n",
       "    .dataframe tbody tr th {\n",
       "        vertical-align: top;\n",
       "    }\n",
       "\n",
       "    .dataframe thead th {\n",
       "        text-align: right;\n",
       "    }\n",
       "</style>\n",
       "<table border=\"1\" class=\"dataframe\">\n",
       "  <thead>\n",
       "    <tr style=\"text-align: right;\">\n",
       "      <th></th>\n",
       "      <th>date</th>\n",
       "      <th>fips</th>\n",
       "      <th>cases</th>\n",
       "      <th>deaths</th>\n",
       "    </tr>\n",
       "  </thead>\n",
       "  <tbody>\n",
       "    <tr>\n",
       "      <th>0</th>\n",
       "      <td>2020-01-21</td>\n",
       "      <td>01001</td>\n",
       "      <td>0</td>\n",
       "      <td>0</td>\n",
       "    </tr>\n",
       "    <tr>\n",
       "      <th>1</th>\n",
       "      <td>2020-01-22</td>\n",
       "      <td>01001</td>\n",
       "      <td>0</td>\n",
       "      <td>0</td>\n",
       "    </tr>\n",
       "    <tr>\n",
       "      <th>2</th>\n",
       "      <td>2020-01-23</td>\n",
       "      <td>01001</td>\n",
       "      <td>0</td>\n",
       "      <td>0</td>\n",
       "    </tr>\n",
       "    <tr>\n",
       "      <th>3</th>\n",
       "      <td>2020-01-24</td>\n",
       "      <td>01001</td>\n",
       "      <td>0</td>\n",
       "      <td>0</td>\n",
       "    </tr>\n",
       "    <tr>\n",
       "      <th>4</th>\n",
       "      <td>2020-01-25</td>\n",
       "      <td>01001</td>\n",
       "      <td>0</td>\n",
       "      <td>0</td>\n",
       "    </tr>\n",
       "  </tbody>\n",
       "</table>\n",
       "</div>"
      ],
      "text/plain": [
       "         date   fips  cases  deaths\n",
       "0  2020-01-21  01001      0       0\n",
       "1  2020-01-22  01001      0       0\n",
       "2  2020-01-23  01001      0       0\n",
       "3  2020-01-24  01001      0       0\n",
       "4  2020-01-25  01001      0       0"
      ]
     },
     "execution_count": 24,
     "metadata": {},
     "output_type": "execute_result"
    }
   ],
   "source": [
    "df_cases = pd.read_parquet(\"../data/cases_daily.parquet\")\n",
    "df_cases.fips = df_cases.fips.astype(str).str.zfill(5)\n",
    "df_cases.head()"
   ]
  },
  {
   "cell_type": "code",
   "execution_count": 76,
   "metadata": {},
   "outputs": [],
   "source": [
    "# data_dict_by_fips = [{\"fips\": fips, \"data\": df.drop(columns=[\"fips\"]).to_dict(\"records\")} for fips, df in df_cases.groupby(\"fips\")]\n",
    "# client[\"MDAProjectDatabase\"][\"daily_covid_cases\"].insert_many(data_dict_by_fips)"
   ]
  },
  {
   "cell_type": "code",
   "execution_count": 25,
   "metadata": {},
   "outputs": [
    {
     "data": {
      "text/plain": [
       "<pymongo.results.InsertManyResult at 0x7f10e00af8b0>"
      ]
     },
     "execution_count": 25,
     "metadata": {},
     "output_type": "execute_result"
    }
   ],
   "source": [
    "client[\"MDAProjectDatabase\"][\"daily_covid_cases\"].insert_many(df_cases.to_dict(\"records\"))"
   ]
  },
  {
   "cell_type": "markdown",
   "metadata": {},
   "source": [
    "## Socio-economic data"
   ]
  },
  {
   "cell_type": "code",
   "execution_count": null,
   "metadata": {},
   "outputs": [],
   "source": [
    "df_socio_economic = pd.read_csv(\"../data/non_epidemic_data.csv\")\n",
    "print(df_socio_economic.shape)\n",
    "df_socio_economic.head()"
   ]
  },
  {
   "cell_type": "code",
   "execution_count": null,
   "metadata": {},
   "outputs": [],
   "source": [
    "fipses_cases = pd.read_csv(\"../data/county_daily_csv.csv\", usecols=[\"fips\"]).fips.values\n",
    "\n",
    "df_socio_economic = df_socio_economic.loc[df_socio_economic.fips.isin(fipses_cases), :]\n",
    "df_socio_economic.shape"
   ]
  },
  {
   "cell_type": "code",
   "execution_count": null,
   "metadata": {},
   "outputs": [],
   "source": [
    "client[\"MDAProjectDatabase\"][\"socio_economic_data\"].insert_many(df_socio_economic.drop(columns=[\"area\"]).to_dict(\"records\"))"
   ]
  },
  {
   "cell_type": "markdown",
   "metadata": {},
   "source": [
    "## FIPS dictionary"
   ]
  },
  {
   "cell_type": "code",
   "execution_count": null,
   "metadata": {},
   "outputs": [],
   "source": [
    "df_fips = pd.read_csv(\"../data/fips.csv\")\n",
    "\n",
    "df_fips_states = df_fips.loc[df_fips.fips.values % 1000 == 0, :].copy()\n",
    "df_fips_states.loc[:, \"fips_state\"] = [f\"{int(fips / 1000):02d}\" for fips in df_fips_states.fips]\n",
    "df_fips_states = df_fips_states.drop(columns=[\"fips\"]).rename(columns={\"area\": \"state_name\"})\n",
    "\n",
    "df_fips = df_fips.loc[df_fips.fips.values % 1000 != 0, :]\n",
    "df_fips.loc[:, \"fips_state\"] = [f\"{fips:05d}\"[:2] for fips in df_fips.fips]\n",
    "\n",
    "df_fips = pd.merge(\n",
    "    df_fips,\n",
    "    df_fips_states,\n",
    "    on=\"fips_state\"\n",
    ").drop(columns=[\"fips_state\"])\n",
    "\n",
    "df_fips.fips = df_fips.fips.astype(str).str.zfill(5)\n",
    "\n",
    "df_fips.head()"
   ]
  },
  {
   "cell_type": "code",
   "execution_count": null,
   "metadata": {},
   "outputs": [],
   "source": [
    "df_fips.head().to_dict(\"records\")"
   ]
  },
  {
   "cell_type": "code",
   "execution_count": null,
   "metadata": {},
   "outputs": [],
   "source": [
    "client[\"MDAProjectDatabase\"][\"fips_codes\"].insert_many(df_fips.to_dict(\"records\"))"
   ]
  },
  {
   "cell_type": "markdown",
   "metadata": {},
   "source": [
    "## Time series forecasts"
   ]
  },
  {
   "cell_type": "code",
   "execution_count": 56,
   "metadata": {},
   "outputs": [
    {
     "data": {
      "text/html": [
       "<div>\n",
       "<style scoped>\n",
       "    .dataframe tbody tr th:only-of-type {\n",
       "        vertical-align: middle;\n",
       "    }\n",
       "\n",
       "    .dataframe tbody tr th {\n",
       "        vertical-align: top;\n",
       "    }\n",
       "\n",
       "    .dataframe thead th {\n",
       "        text-align: right;\n",
       "    }\n",
       "</style>\n",
       "<table border=\"1\" class=\"dataframe\">\n",
       "  <thead>\n",
       "    <tr style=\"text-align: right;\">\n",
       "      <th></th>\n",
       "      <th>date</th>\n",
       "      <th>cases</th>\n",
       "      <th>Forecast 1</th>\n",
       "      <th>Forecast 2</th>\n",
       "    </tr>\n",
       "  </thead>\n",
       "  <tbody>\n",
       "    <tr>\n",
       "      <th>0</th>\n",
       "      <td>2020-01-21</td>\n",
       "      <td>1.0</td>\n",
       "      <td>NaN</td>\n",
       "      <td>NaN</td>\n",
       "    </tr>\n",
       "    <tr>\n",
       "      <th>1</th>\n",
       "      <td>2020-01-22</td>\n",
       "      <td>0.0</td>\n",
       "      <td>NaN</td>\n",
       "      <td>NaN</td>\n",
       "    </tr>\n",
       "    <tr>\n",
       "      <th>2</th>\n",
       "      <td>2020-01-23</td>\n",
       "      <td>0.0</td>\n",
       "      <td>NaN</td>\n",
       "      <td>NaN</td>\n",
       "    </tr>\n",
       "    <tr>\n",
       "      <th>3</th>\n",
       "      <td>2020-01-24</td>\n",
       "      <td>1.0</td>\n",
       "      <td>NaN</td>\n",
       "      <td>NaN</td>\n",
       "    </tr>\n",
       "    <tr>\n",
       "      <th>4</th>\n",
       "      <td>2020-01-25</td>\n",
       "      <td>1.0</td>\n",
       "      <td>NaN</td>\n",
       "      <td>NaN</td>\n",
       "    </tr>\n",
       "  </tbody>\n",
       "</table>\n",
       "</div>"
      ],
      "text/plain": [
       "         date  cases  Forecast 1  Forecast 2\n",
       "0  2020-01-21    1.0         NaN         NaN\n",
       "1  2020-01-22    0.0         NaN         NaN\n",
       "2  2020-01-23    0.0         NaN         NaN\n",
       "3  2020-01-24    1.0         NaN         NaN\n",
       "4  2020-01-25    1.0         NaN         NaN"
      ]
     },
     "execution_count": 56,
     "metadata": {},
     "output_type": "execute_result"
    }
   ],
   "source": [
    "df_fcst = pd.read_csv(\"../data/country_level_cases_with_forecast.csv\")\n",
    "df_fcst.head()"
   ]
  },
  {
   "cell_type": "code",
   "execution_count": 57,
   "metadata": {},
   "outputs": [
    {
     "data": {
      "text/plain": [
       "{'date': '2020-01-21', 'cases': 1.0, 'Forecast 1': None, 'Forecast 2': None}"
      ]
     },
     "execution_count": 57,
     "metadata": {},
     "output_type": "execute_result"
    }
   ],
   "source": [
    "dict_list_no_nan = df_fcst.astype(object).where(df_fcst.notna(), None).to_dict(\"records\")\n",
    "dict_list_no_nan[0]"
   ]
  },
  {
   "cell_type": "code",
   "execution_count": 58,
   "metadata": {},
   "outputs": [
    {
     "data": {
      "text/plain": [
       "<pymongo.results.InsertManyResult at 0x7f0ff1ea0310>"
      ]
     },
     "execution_count": 58,
     "metadata": {},
     "output_type": "execute_result"
    }
   ],
   "source": [
    "db[\"country_level_cases_with_forecasts\"].insert_many(dict_list_no_nan)"
   ]
  },
  {
   "cell_type": "markdown",
   "metadata": {},
   "source": [
    "## Counterfactual models"
   ]
  },
  {
   "cell_type": "code",
   "execution_count": 4,
   "metadata": {},
   "outputs": [
    {
     "data": {
      "text/html": [
       "<div>\n",
       "<style scoped>\n",
       "    .dataframe tbody tr th:only-of-type {\n",
       "        vertical-align: middle;\n",
       "    }\n",
       "\n",
       "    .dataframe tbody tr th {\n",
       "        vertical-align: top;\n",
       "    }\n",
       "\n",
       "    .dataframe thead th {\n",
       "        text-align: right;\n",
       "    }\n",
       "</style>\n",
       "<table border=\"1\" class=\"dataframe\">\n",
       "  <thead>\n",
       "    <tr style=\"text-align: right;\">\n",
       "      <th></th>\n",
       "      <th>date</th>\n",
       "      <th>variable</th>\n",
       "      <th>state_code</th>\n",
       "      <th>value</th>\n",
       "    </tr>\n",
       "  </thead>\n",
       "  <tbody>\n",
       "    <tr>\n",
       "      <th>0</th>\n",
       "      <td>2020-09-30</td>\n",
       "      <td>mask_requirement</td>\n",
       "      <td>Mississippi</td>\n",
       "      <td>1513.580688</td>\n",
       "    </tr>\n",
       "    <tr>\n",
       "      <th>1</th>\n",
       "      <td>2020-09-30</td>\n",
       "      <td>no_mask_requirement</td>\n",
       "      <td>Mississippi</td>\n",
       "      <td>1513.463135</td>\n",
       "    </tr>\n",
       "    <tr>\n",
       "      <th>2</th>\n",
       "      <td>2020-10-01</td>\n",
       "      <td>mask_requirement</td>\n",
       "      <td>Mississippi</td>\n",
       "      <td>1536.039429</td>\n",
       "    </tr>\n",
       "    <tr>\n",
       "      <th>3</th>\n",
       "      <td>2020-10-01</td>\n",
       "      <td>no_mask_requirement</td>\n",
       "      <td>Mississippi</td>\n",
       "      <td>1529.435791</td>\n",
       "    </tr>\n",
       "    <tr>\n",
       "      <th>4</th>\n",
       "      <td>2020-10-02</td>\n",
       "      <td>mask_requirement</td>\n",
       "      <td>Michigan</td>\n",
       "      <td>984.426392</td>\n",
       "    </tr>\n",
       "  </tbody>\n",
       "</table>\n",
       "</div>"
      ],
      "text/plain": [
       "         date             variable   state_code        value\n",
       "0  2020-09-30     mask_requirement  Mississippi  1513.580688\n",
       "1  2020-09-30  no_mask_requirement  Mississippi  1513.463135\n",
       "2  2020-10-01     mask_requirement  Mississippi  1536.039429\n",
       "3  2020-10-01  no_mask_requirement  Mississippi  1529.435791\n",
       "4  2020-10-02     mask_requirement     Michigan   984.426392"
      ]
     },
     "execution_count": 4,
     "metadata": {},
     "output_type": "execute_result"
    }
   ],
   "source": [
    "# df_counterfactual1 = pd.read_csv(\"../data/counterfactual_results_model_1.csv\")\n",
    "# df_counterfactual1.head()"
   ]
  },
  {
   "cell_type": "code",
   "execution_count": 6,
   "metadata": {},
   "outputs": [
    {
     "data": {
      "text/html": [
       "<div>\n",
       "<style scoped>\n",
       "    .dataframe tbody tr th:only-of-type {\n",
       "        vertical-align: middle;\n",
       "    }\n",
       "\n",
       "    .dataframe tbody tr th {\n",
       "        vertical-align: top;\n",
       "    }\n",
       "\n",
       "    .dataframe thead th {\n",
       "        text-align: right;\n",
       "    }\n",
       "</style>\n",
       "<table border=\"1\" class=\"dataframe\">\n",
       "  <thead>\n",
       "    <tr style=\"text-align: right;\">\n",
       "      <th></th>\n",
       "      <th>date</th>\n",
       "      <th>variable</th>\n",
       "      <th>state_name</th>\n",
       "      <th>value</th>\n",
       "    </tr>\n",
       "  </thead>\n",
       "  <tbody>\n",
       "    <tr>\n",
       "      <th>0</th>\n",
       "      <td>2020-09-30</td>\n",
       "      <td>mask_requirement</td>\n",
       "      <td>Mississippi</td>\n",
       "      <td>1555.972046</td>\n",
       "    </tr>\n",
       "    <tr>\n",
       "      <th>1</th>\n",
       "      <td>2020-09-30</td>\n",
       "      <td>no_mask_requirement</td>\n",
       "      <td>Mississippi</td>\n",
       "      <td>1573.680298</td>\n",
       "    </tr>\n",
       "    <tr>\n",
       "      <th>2</th>\n",
       "      <td>2020-10-01</td>\n",
       "      <td>mask_requirement</td>\n",
       "      <td>Mississippi</td>\n",
       "      <td>1587.778442</td>\n",
       "    </tr>\n",
       "    <tr>\n",
       "      <th>3</th>\n",
       "      <td>2020-10-01</td>\n",
       "      <td>no_mask_requirement</td>\n",
       "      <td>Mississippi</td>\n",
       "      <td>1636.114868</td>\n",
       "    </tr>\n",
       "    <tr>\n",
       "      <th>4</th>\n",
       "      <td>2020-10-02</td>\n",
       "      <td>mask_requirement</td>\n",
       "      <td>Michigan</td>\n",
       "      <td>1010.964966</td>\n",
       "    </tr>\n",
       "  </tbody>\n",
       "</table>\n",
       "</div>"
      ],
      "text/plain": [
       "         date             variable   state_name        value\n",
       "0  2020-09-30     mask_requirement  Mississippi  1555.972046\n",
       "1  2020-09-30  no_mask_requirement  Mississippi  1573.680298\n",
       "2  2020-10-01     mask_requirement  Mississippi  1587.778442\n",
       "3  2020-10-01  no_mask_requirement  Mississippi  1636.114868\n",
       "4  2020-10-02     mask_requirement     Michigan  1010.964966"
      ]
     },
     "execution_count": 6,
     "metadata": {},
     "output_type": "execute_result"
    }
   ],
   "source": [
    "df_counterfactual2 = pd.read_csv(\"../data/counterfactual_results_model_2.csv\").rename(columns={\"state_code\": \"state_name\"})\n",
    "df_counterfactual2.head()"
   ]
  },
  {
   "cell_type": "code",
   "execution_count": 7,
   "metadata": {},
   "outputs": [
    {
     "data": {
      "text/plain": [
       "<pymongo.results.InsertManyResult at 0x7f6983f360d0>"
      ]
     },
     "execution_count": 7,
     "metadata": {},
     "output_type": "execute_result"
    }
   ],
   "source": [
    "db[\"counterfactual_model_results\"].insert_many(df_counterfactual2.to_dict(\"records\"))"
   ]
  },
  {
   "cell_type": "markdown",
   "metadata": {},
   "source": [
    "## Vaccinations by state"
   ]
  },
  {
   "cell_type": "code",
   "execution_count": 33,
   "metadata": {},
   "outputs": [
    {
     "data": {
      "text/html": [
       "<div>\n",
       "<style scoped>\n",
       "    .dataframe tbody tr th:only-of-type {\n",
       "        vertical-align: middle;\n",
       "    }\n",
       "\n",
       "    .dataframe tbody tr th {\n",
       "        vertical-align: top;\n",
       "    }\n",
       "\n",
       "    .dataframe thead th {\n",
       "        text-align: right;\n",
       "    }\n",
       "</style>\n",
       "<table border=\"1\" class=\"dataframe\">\n",
       "  <thead>\n",
       "    <tr style=\"text-align: right;\">\n",
       "      <th></th>\n",
       "      <th>date</th>\n",
       "      <th>state_name</th>\n",
       "      <th>fully_vaccinated</th>\n",
       "      <th>total_pop</th>\n",
       "    </tr>\n",
       "  </thead>\n",
       "  <tbody>\n",
       "    <tr>\n",
       "      <th>0</th>\n",
       "      <td>2020-12-13</td>\n",
       "      <td>Alaska</td>\n",
       "      <td>0</td>\n",
       "      <td>731545</td>\n",
       "    </tr>\n",
       "    <tr>\n",
       "      <th>1</th>\n",
       "      <td>2020-12-14</td>\n",
       "      <td>Alaska</td>\n",
       "      <td>0</td>\n",
       "      <td>731545</td>\n",
       "    </tr>\n",
       "    <tr>\n",
       "      <th>2</th>\n",
       "      <td>2020-12-15</td>\n",
       "      <td>Alaska</td>\n",
       "      <td>0</td>\n",
       "      <td>731545</td>\n",
       "    </tr>\n",
       "    <tr>\n",
       "      <th>3</th>\n",
       "      <td>2020-12-16</td>\n",
       "      <td>Alaska</td>\n",
       "      <td>0</td>\n",
       "      <td>731545</td>\n",
       "    </tr>\n",
       "    <tr>\n",
       "      <th>4</th>\n",
       "      <td>2020-12-17</td>\n",
       "      <td>Alaska</td>\n",
       "      <td>0</td>\n",
       "      <td>731545</td>\n",
       "    </tr>\n",
       "    <tr>\n",
       "      <th>...</th>\n",
       "      <td>...</td>\n",
       "      <td>...</td>\n",
       "      <td>...</td>\n",
       "      <td>...</td>\n",
       "    </tr>\n",
       "    <tr>\n",
       "      <th>29155</th>\n",
       "      <td>2022-06-01</td>\n",
       "      <td>Wyoming</td>\n",
       "      <td>287243</td>\n",
       "      <td>578759</td>\n",
       "    </tr>\n",
       "    <tr>\n",
       "      <th>29156</th>\n",
       "      <td>2022-06-02</td>\n",
       "      <td>Wyoming</td>\n",
       "      <td>287284</td>\n",
       "      <td>578759</td>\n",
       "    </tr>\n",
       "    <tr>\n",
       "      <th>29157</th>\n",
       "      <td>2022-06-03</td>\n",
       "      <td>Wyoming</td>\n",
       "      <td>287333</td>\n",
       "      <td>578759</td>\n",
       "    </tr>\n",
       "    <tr>\n",
       "      <th>29158</th>\n",
       "      <td>2022-06-04</td>\n",
       "      <td>Wyoming</td>\n",
       "      <td>287395</td>\n",
       "      <td>578759</td>\n",
       "    </tr>\n",
       "    <tr>\n",
       "      <th>29159</th>\n",
       "      <td>2022-06-05</td>\n",
       "      <td>Wyoming</td>\n",
       "      <td>287403</td>\n",
       "      <td>578759</td>\n",
       "    </tr>\n",
       "  </tbody>\n",
       "</table>\n",
       "<p>29160 rows × 4 columns</p>\n",
       "</div>"
      ],
      "text/plain": [
       "             date state_name  fully_vaccinated  total_pop\n",
       "0      2020-12-13     Alaska                 0     731545\n",
       "1      2020-12-14     Alaska                 0     731545\n",
       "2      2020-12-15     Alaska                 0     731545\n",
       "3      2020-12-16     Alaska                 0     731545\n",
       "4      2020-12-17     Alaska                 0     731545\n",
       "...           ...        ...               ...        ...\n",
       "29155  2022-06-01    Wyoming            287243     578759\n",
       "29156  2022-06-02    Wyoming            287284     578759\n",
       "29157  2022-06-03    Wyoming            287333     578759\n",
       "29158  2022-06-04    Wyoming            287395     578759\n",
       "29159  2022-06-05    Wyoming            287403     578759\n",
       "\n",
       "[29160 rows x 4 columns]"
      ]
     },
     "execution_count": 33,
     "metadata": {},
     "output_type": "execute_result"
    }
   ],
   "source": [
    "df_abrev_state = pd.read_csv(\"../data/state_abrev_dict.csv\")\n",
    "df_abrev_state.fips_state = df_abrev_state.fips_state.astype(str).str.zfill(2)\n",
    "\n",
    "df_vaccinations = pd.read_csv(\n",
    "    \"../data/vaccinations_by_state.csv\", \n",
    "    dtype={\"fully_vaccinated\": int, \"total_pop\": int}\n",
    ") \\\n",
    "    .rename(columns={\"state_code\": \"abrev_state\"})\\\n",
    "    .drop(columns=[\"pct_vaccinated\"])\n",
    "\n",
    "df_vaccinations = pd.merge(\n",
    "    df_vaccinations,\n",
    "    df_abrev_state,\n",
    "    on=\"abrev_state\",\n",
    "    how=\"left\"\n",
    ").drop(columns=[\"abrev_state\"])\n",
    "\n",
    "df_vaccinations = pd.merge(\n",
    "    df_vaccinations,\n",
    "    pd.read_csv(\"../data/fips_states.csv\", dtype={\"fips_state\": str}),\n",
    "    on=\"fips_state\",\n",
    "    how=\"left\"\n",
    ").drop(columns=[\"fips_state\"])\n",
    "\n",
    "df_vaccinations.state_name = df_vaccinations.state_name.str.title()\n",
    "df_vaccinations = df_vaccinations.loc[:, [\"date\", \"state_name\", \"fully_vaccinated\", \"total_pop\"]]\n",
    "\n",
    "df_vaccinations"
   ]
  },
  {
   "cell_type": "code",
   "execution_count": 34,
   "metadata": {},
   "outputs": [
    {
     "data": {
      "text/plain": [
       "<pymongo.results.InsertManyResult at 0x7f69f0198c70>"
      ]
     },
     "execution_count": 34,
     "metadata": {},
     "output_type": "execute_result"
    }
   ],
   "source": [
    "db[\"vaccinations\"].insert_many(df_vaccinations.to_dict(\"records\"))"
   ]
  },
  {
   "cell_type": "code",
   "execution_count": null,
   "metadata": {},
   "outputs": [],
   "source": []
  }
 ],
 "metadata": {
  "interpreter": {
   "hash": "e99b5d9fc574ab35b2ac713fada23b806890ae47709c8d1a7c97606efc7fbf3d"
  },
  "kernelspec": {
   "display_name": "Python 3.9.5 ('mda-project')",
   "language": "python",
   "name": "python3"
  },
  "language_info": {
   "codemirror_mode": {
    "name": "ipython",
    "version": 3
   },
   "file_extension": ".py",
   "mimetype": "text/x-python",
   "name": "python",
   "nbconvert_exporter": "python",
   "pygments_lexer": "ipython3",
   "version": "3.9.5"
  },
  "orig_nbformat": 4
 },
 "nbformat": 4,
 "nbformat_minor": 2
}
