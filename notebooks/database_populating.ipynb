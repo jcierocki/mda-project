{
 "cells": [
  {
   "cell_type": "code",
   "execution_count": 1,
   "metadata": {},
   "outputs": [],
   "source": [
    "import pandas as pd\n",
    "import numpy as np\n",
    "from pymongo import MongoClient"
   ]
  },
  {
   "cell_type": "code",
   "execution_count": 2,
   "metadata": {},
   "outputs": [],
   "source": [
    "client = MongoClient('localhost', 27017)"
   ]
  },
  {
   "cell_type": "markdown",
   "metadata": {},
   "source": [
    "## Cases and deaths\n",
    "- by day and county\n",
    "- prepared by Aleksanda"
   ]
  },
  {
   "cell_type": "markdown",
   "metadata": {},
   "source": [
    "### CSV to Parquet conversion"
   ]
  },
  {
   "cell_type": "code",
   "execution_count": null,
   "metadata": {},
   "outputs": [],
   "source": [
    "# pd.read_csv(\n",
    "#     \"../data/cases_daily.csv\", \n",
    "#     usecols=[\"date\", \"fips\", \"cases\", \"deaths\"]\n",
    "# ).to_parquet(\n",
    "#     \"../data/cases_dailt.parquet\",\n",
    "#     engine=\"pyarrow\", \n",
    "#     compression=\"brotli\"\n",
    "# )"
   ]
  },
  {
   "cell_type": "code",
   "execution_count": 9,
   "metadata": {},
   "outputs": [
    {
     "data": {
      "text/html": [
       "<div>\n",
       "<style scoped>\n",
       "    .dataframe tbody tr th:only-of-type {\n",
       "        vertical-align: middle;\n",
       "    }\n",
       "\n",
       "    .dataframe tbody tr th {\n",
       "        vertical-align: top;\n",
       "    }\n",
       "\n",
       "    .dataframe thead th {\n",
       "        text-align: right;\n",
       "    }\n",
       "</style>\n",
       "<table border=\"1\" class=\"dataframe\">\n",
       "  <thead>\n",
       "    <tr style=\"text-align: right;\">\n",
       "      <th></th>\n",
       "      <th>date</th>\n",
       "      <th>fips</th>\n",
       "      <th>cases</th>\n",
       "      <th>deaths</th>\n",
       "    </tr>\n",
       "  </thead>\n",
       "  <tbody>\n",
       "    <tr>\n",
       "      <th>0</th>\n",
       "      <td>2020-01-21</td>\n",
       "      <td>1001</td>\n",
       "      <td>0</td>\n",
       "      <td>0</td>\n",
       "    </tr>\n",
       "    <tr>\n",
       "      <th>1</th>\n",
       "      <td>2020-01-22</td>\n",
       "      <td>1001</td>\n",
       "      <td>0</td>\n",
       "      <td>0</td>\n",
       "    </tr>\n",
       "    <tr>\n",
       "      <th>2</th>\n",
       "      <td>2020-01-23</td>\n",
       "      <td>1001</td>\n",
       "      <td>0</td>\n",
       "      <td>0</td>\n",
       "    </tr>\n",
       "    <tr>\n",
       "      <th>3</th>\n",
       "      <td>2020-01-24</td>\n",
       "      <td>1001</td>\n",
       "      <td>0</td>\n",
       "      <td>0</td>\n",
       "    </tr>\n",
       "    <tr>\n",
       "      <th>4</th>\n",
       "      <td>2020-01-25</td>\n",
       "      <td>1001</td>\n",
       "      <td>0</td>\n",
       "      <td>0</td>\n",
       "    </tr>\n",
       "  </tbody>\n",
       "</table>\n",
       "</div>"
      ],
      "text/plain": [
       "         date  fips  cases  deaths\n",
       "0  2020-01-21  1001      0       0\n",
       "1  2020-01-22  1001      0       0\n",
       "2  2020-01-23  1001      0       0\n",
       "3  2020-01-24  1001      0       0\n",
       "4  2020-01-25  1001      0       0"
      ]
     },
     "execution_count": 9,
     "metadata": {},
     "output_type": "execute_result"
    }
   ],
   "source": [
    "df_cases = pd.read_parquet(\"../data/cases_dailt.parquet\")\n",
    "df_cases.head()"
   ]
  },
  {
   "cell_type": "code",
   "execution_count": 14,
   "metadata": {},
   "outputs": [
    {
     "data": {
      "text/plain": [
       "<pymongo.results.InsertManyResult at 0x7fcd7aa1c970>"
      ]
     },
     "execution_count": 14,
     "metadata": {},
     "output_type": "execute_result"
    }
   ],
   "source": [
    "client[\"MDAProjectDatabase\"][\"daily_covid_cases\"].insert_many(df_cases.to_dict(\"records\"))"
   ]
  },
  {
   "cell_type": "markdown",
   "metadata": {},
   "source": [
    "## Socio-economic data"
   ]
  },
  {
   "cell_type": "code",
   "execution_count": 17,
   "metadata": {},
   "outputs": [
    {
     "name": "stdout",
     "output_type": "stream",
     "text": [
      "(3233, 11)\n"
     ]
    },
    {
     "data": {
      "text/html": [
       "<div>\n",
       "<style scoped>\n",
       "    .dataframe tbody tr th:only-of-type {\n",
       "        vertical-align: middle;\n",
       "    }\n",
       "\n",
       "    .dataframe tbody tr th {\n",
       "        vertical-align: top;\n",
       "    }\n",
       "\n",
       "    .dataframe thead th {\n",
       "        text-align: right;\n",
       "    }\n",
       "</style>\n",
       "<table border=\"1\" class=\"dataframe\">\n",
       "  <thead>\n",
       "    <tr style=\"text-align: right;\">\n",
       "      <th></th>\n",
       "      <th>fips</th>\n",
       "      <th>area</th>\n",
       "      <th>pop_estimate_2019</th>\n",
       "      <th>unemployment_rate_2020</th>\n",
       "      <th>median_household_income_2019</th>\n",
       "      <th>poverty_frac_2019</th>\n",
       "      <th>no_high_school</th>\n",
       "      <th>high_school_only</th>\n",
       "      <th>college_only</th>\n",
       "      <th>bachelor_or_higher</th>\n",
       "      <th>voted_biden</th>\n",
       "    </tr>\n",
       "  </thead>\n",
       "  <tbody>\n",
       "    <tr>\n",
       "      <th>0</th>\n",
       "      <td>1001</td>\n",
       "      <td>Autauga County</td>\n",
       "      <td>55869.0</td>\n",
       "      <td>4.9</td>\n",
       "      <td>58233.0</td>\n",
       "      <td>0.121</td>\n",
       "      <td>0.114834</td>\n",
       "      <td>0.335885</td>\n",
       "      <td>0.283566</td>\n",
       "      <td>0.265716</td>\n",
       "      <td>0.270184</td>\n",
       "    </tr>\n",
       "    <tr>\n",
       "      <th>1</th>\n",
       "      <td>1003</td>\n",
       "      <td>Baldwin County</td>\n",
       "      <td>223234.0</td>\n",
       "      <td>5.6</td>\n",
       "      <td>59871.0</td>\n",
       "      <td>0.101</td>\n",
       "      <td>0.091938</td>\n",
       "      <td>0.276596</td>\n",
       "      <td>0.312841</td>\n",
       "      <td>0.318625</td>\n",
       "      <td>0.224090</td>\n",
       "    </tr>\n",
       "    <tr>\n",
       "      <th>2</th>\n",
       "      <td>1005</td>\n",
       "      <td>Barbour County</td>\n",
       "      <td>24686.0</td>\n",
       "      <td>7.0</td>\n",
       "      <td>35972.0</td>\n",
       "      <td>0.271</td>\n",
       "      <td>0.267869</td>\n",
       "      <td>0.356045</td>\n",
       "      <td>0.260298</td>\n",
       "      <td>0.115787</td>\n",
       "      <td>0.457882</td>\n",
       "    </tr>\n",
       "    <tr>\n",
       "      <th>3</th>\n",
       "      <td>1007</td>\n",
       "      <td>Bibb County</td>\n",
       "      <td>22394.0</td>\n",
       "      <td>6.6</td>\n",
       "      <td>47918.0</td>\n",
       "      <td>0.203</td>\n",
       "      <td>0.209426</td>\n",
       "      <td>0.448788</td>\n",
       "      <td>0.238001</td>\n",
       "      <td>0.103785</td>\n",
       "      <td>0.206983</td>\n",
       "    </tr>\n",
       "    <tr>\n",
       "      <th>4</th>\n",
       "      <td>1009</td>\n",
       "      <td>Blount County</td>\n",
       "      <td>57826.0</td>\n",
       "      <td>4.1</td>\n",
       "      <td>52902.0</td>\n",
       "      <td>0.163</td>\n",
       "      <td>0.195094</td>\n",
       "      <td>0.334221</td>\n",
       "      <td>0.339750</td>\n",
       "      <td>0.130934</td>\n",
       "      <td>0.095694</td>\n",
       "    </tr>\n",
       "  </tbody>\n",
       "</table>\n",
       "</div>"
      ],
      "text/plain": [
       "   fips            area  pop_estimate_2019  unemployment_rate_2020  \\\n",
       "0  1001  Autauga County            55869.0                     4.9   \n",
       "1  1003  Baldwin County           223234.0                     5.6   \n",
       "2  1005  Barbour County            24686.0                     7.0   \n",
       "3  1007     Bibb County            22394.0                     6.6   \n",
       "4  1009   Blount County            57826.0                     4.1   \n",
       "\n",
       "   median_household_income_2019  poverty_frac_2019  no_high_school  \\\n",
       "0                       58233.0              0.121        0.114834   \n",
       "1                       59871.0              0.101        0.091938   \n",
       "2                       35972.0              0.271        0.267869   \n",
       "3                       47918.0              0.203        0.209426   \n",
       "4                       52902.0              0.163        0.195094   \n",
       "\n",
       "   high_school_only  college_only  bachelor_or_higher  voted_biden  \n",
       "0          0.335885      0.283566            0.265716     0.270184  \n",
       "1          0.276596      0.312841            0.318625     0.224090  \n",
       "2          0.356045      0.260298            0.115787     0.457882  \n",
       "3          0.448788      0.238001            0.103785     0.206983  \n",
       "4          0.334221      0.339750            0.130934     0.095694  "
      ]
     },
     "execution_count": 17,
     "metadata": {},
     "output_type": "execute_result"
    }
   ],
   "source": [
    "df_socio_economic = pd.read_csv(\"../data/non_epidemic_data.csv\")\n",
    "print(df_socio_economic.shape)\n",
    "df_socio_economic.head()"
   ]
  },
  {
   "cell_type": "code",
   "execution_count": 18,
   "metadata": {},
   "outputs": [
    {
     "data": {
      "text/plain": [
       "(3217, 11)"
      ]
     },
     "execution_count": 18,
     "metadata": {},
     "output_type": "execute_result"
    }
   ],
   "source": [
    "fipses_cases = pd.read_csv(\"../data/county_daily_csv.csv\", usecols=[\"fips\"]).fips.values\n",
    "\n",
    "df_socio_economic = df_socio_economic.loc[df_socio_economic.fips.isin(fipses_cases), :]\n",
    "df_socio_economic.shape"
   ]
  },
  {
   "cell_type": "code",
   "execution_count": 20,
   "metadata": {},
   "outputs": [
    {
     "data": {
      "text/plain": [
       "<pymongo.results.InsertManyResult at 0x7fc727065bb0>"
      ]
     },
     "execution_count": 20,
     "metadata": {},
     "output_type": "execute_result"
    }
   ],
   "source": [
    "client[\"MDAProjectDatabase\"][\"socio_economic_data\"].insert_many(df_socio_economic.drop(columns=[\"area\"]).to_dict(\"records\"))"
   ]
  },
  {
   "cell_type": "markdown",
   "metadata": {},
   "source": [
    "## FIPS dictionary"
   ]
  },
  {
   "cell_type": "code",
   "execution_count": 35,
   "metadata": {},
   "outputs": [
    {
     "data": {
      "text/html": [
       "<div>\n",
       "<style scoped>\n",
       "    .dataframe tbody tr th:only-of-type {\n",
       "        vertical-align: middle;\n",
       "    }\n",
       "\n",
       "    .dataframe tbody tr th {\n",
       "        vertical-align: top;\n",
       "    }\n",
       "\n",
       "    .dataframe thead th {\n",
       "        text-align: right;\n",
       "    }\n",
       "</style>\n",
       "<table border=\"1\" class=\"dataframe\">\n",
       "  <thead>\n",
       "    <tr style=\"text-align: right;\">\n",
       "      <th></th>\n",
       "      <th>fips</th>\n",
       "      <th>area</th>\n",
       "    </tr>\n",
       "  </thead>\n",
       "  <tbody>\n",
       "    <tr>\n",
       "      <th>0</th>\n",
       "      <td>1000</td>\n",
       "      <td>Alabama</td>\n",
       "    </tr>\n",
       "    <tr>\n",
       "      <th>1</th>\n",
       "      <td>1001</td>\n",
       "      <td>Autauga County</td>\n",
       "    </tr>\n",
       "    <tr>\n",
       "      <th>2</th>\n",
       "      <td>1003</td>\n",
       "      <td>Baldwin County</td>\n",
       "    </tr>\n",
       "    <tr>\n",
       "      <th>3</th>\n",
       "      <td>1005</td>\n",
       "      <td>Barbour County</td>\n",
       "    </tr>\n",
       "    <tr>\n",
       "      <th>4</th>\n",
       "      <td>1007</td>\n",
       "      <td>Bibb County</td>\n",
       "    </tr>\n",
       "  </tbody>\n",
       "</table>\n",
       "</div>"
      ],
      "text/plain": [
       "   fips            area\n",
       "0  1000         Alabama\n",
       "1  1001  Autauga County\n",
       "2  1003  Baldwin County\n",
       "3  1005  Barbour County\n",
       "4  1007     Bibb County"
      ]
     },
     "execution_count": 35,
     "metadata": {},
     "output_type": "execute_result"
    }
   ],
   "source": [
    "df_fips = pd.read_csv(\"../data/fips.csv\")\n",
    "df_fips.head()"
   ]
  },
  {
   "cell_type": "code",
   "execution_count": 36,
   "metadata": {},
   "outputs": [
    {
     "data": {
      "text/plain": [
       "<pymongo.results.InsertManyResult at 0x7fc72492ac10>"
      ]
     },
     "execution_count": 36,
     "metadata": {},
     "output_type": "execute_result"
    }
   ],
   "source": [
    "client[\"MDAProjectDatabase\"][\"fips_codes\"].insert_many(df_fips.to_dict(\"records\"))"
   ]
  }
 ],
 "metadata": {
  "interpreter": {
   "hash": "e99b5d9fc574ab35b2ac713fada23b806890ae47709c8d1a7c97606efc7fbf3d"
  },
  "kernelspec": {
   "display_name": "Python 3.9.5 ('mda-project')",
   "language": "python",
   "name": "python3"
  },
  "language_info": {
   "codemirror_mode": {
    "name": "ipython",
    "version": 3
   },
   "file_extension": ".py",
   "mimetype": "text/x-python",
   "name": "python",
   "nbconvert_exporter": "python",
   "pygments_lexer": "ipython3",
   "version": "3.9.5"
  },
  "orig_nbformat": 4
 },
 "nbformat": 4,
 "nbformat_minor": 2
}
