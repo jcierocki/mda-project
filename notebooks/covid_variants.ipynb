{
 "cells": [
  {
   "cell_type": "code",
   "execution_count": 4,
   "metadata": {},
   "outputs": [],
   "source": [
    "import pandas as pd\n",
    "import numpy as np\n",
    "import json\n",
    "import requests"
   ]
  },
  {
   "cell_type": "code",
   "execution_count": 5,
   "metadata": {},
   "outputs": [],
   "source": [
    "data = requests.get(\"http://github.com/hodcroftlab/covariants/raw/master/cluster_tables/USAClusters_data.json\").json()\n",
    "\n",
    "# with open(\"../data/variants.json\", \"w\") as file:\n",
    "#     json.dump(data, file, indent=2)"
   ]
  },
  {
   "cell_type": "code",
   "execution_count": 36,
   "metadata": {},
   "outputs": [],
   "source": [
    "def parse_variants_json(data):\n",
    "    df_list = []\n",
    "    for state, data in data[\"countries\"].items():\n",
    "        df_state = pd.DataFrame.from_dict(data) \n",
    "\n",
    "        df_state = df_state.melt(\n",
    "            id_vars=\"week\", \n",
    "            value_vars=[ c for c in df_state.columns if c != \"week\" and c != \"total_sequences\" ],\n",
    "            var_name=\"variant\",\n",
    "            value_name=\"cases\"\n",
    "        ).rename(columns={\"week\": \"date\"})\n",
    "        \n",
    "        df_state.insert(0, \"state\", state)\n",
    "\n",
    "        df_list.append(df_state)\n",
    "\n",
    "    return pd.concat(df_list)"
   ]
  },
  {
   "cell_type": "code",
   "execution_count": 37,
   "metadata": {},
   "outputs": [
    {
     "name": "stdout",
     "output_type": "stream",
     "text": [
      "(69906, 4)\n"
     ]
    },
    {
     "data": {
      "text/html": [
       "<div>\n",
       "<style scoped>\n",
       "    .dataframe tbody tr th:only-of-type {\n",
       "        vertical-align: middle;\n",
       "    }\n",
       "\n",
       "    .dataframe tbody tr th {\n",
       "        vertical-align: top;\n",
       "    }\n",
       "\n",
       "    .dataframe thead th {\n",
       "        text-align: right;\n",
       "    }\n",
       "</style>\n",
       "<table border=\"1\" class=\"dataframe\">\n",
       "  <thead>\n",
       "    <tr style=\"text-align: right;\">\n",
       "      <th></th>\n",
       "      <th>state</th>\n",
       "      <th>date</th>\n",
       "      <th>variant</th>\n",
       "      <th>cases</th>\n",
       "    </tr>\n",
       "  </thead>\n",
       "  <tbody>\n",
       "    <tr>\n",
       "      <th>0</th>\n",
       "      <td>California</td>\n",
       "      <td>2020-04-27</td>\n",
       "      <td>20I (Alpha, V1)</td>\n",
       "      <td>0.0</td>\n",
       "    </tr>\n",
       "    <tr>\n",
       "      <th>1</th>\n",
       "      <td>California</td>\n",
       "      <td>2020-05-11</td>\n",
       "      <td>20I (Alpha, V1)</td>\n",
       "      <td>0.0</td>\n",
       "    </tr>\n",
       "    <tr>\n",
       "      <th>2</th>\n",
       "      <td>California</td>\n",
       "      <td>2020-05-25</td>\n",
       "      <td>20I (Alpha, V1)</td>\n",
       "      <td>0.0</td>\n",
       "    </tr>\n",
       "    <tr>\n",
       "      <th>3</th>\n",
       "      <td>California</td>\n",
       "      <td>2020-06-08</td>\n",
       "      <td>20I (Alpha, V1)</td>\n",
       "      <td>0.0</td>\n",
       "    </tr>\n",
       "    <tr>\n",
       "      <th>4</th>\n",
       "      <td>California</td>\n",
       "      <td>2020-06-22</td>\n",
       "      <td>20I (Alpha, V1)</td>\n",
       "      <td>0.0</td>\n",
       "    </tr>\n",
       "  </tbody>\n",
       "</table>\n",
       "</div>"
      ],
      "text/plain": [
       "        state        date          variant  cases\n",
       "0  California  2020-04-27  20I (Alpha, V1)    0.0\n",
       "1  California  2020-05-11  20I (Alpha, V1)    0.0\n",
       "2  California  2020-05-25  20I (Alpha, V1)    0.0\n",
       "3  California  2020-06-08  20I (Alpha, V1)    0.0\n",
       "4  California  2020-06-22  20I (Alpha, V1)    0.0"
      ]
     },
     "execution_count": 37,
     "metadata": {},
     "output_type": "execute_result"
    }
   ],
   "source": [
    "df_full = parse_variants_json(data)\n",
    "print(df_full.shape)\n",
    "df_full.head()"
   ]
  },
  {
   "cell_type": "code",
   "execution_count": 39,
   "metadata": {},
   "outputs": [],
   "source": [
    "df_full.to_parquet(\"../data/variants.parquet\", engine=\"pyarrow\", compression=\"brotli\")"
   ]
  },
  {
   "cell_type": "code",
   "execution_count": null,
   "metadata": {},
   "outputs": [],
   "source": []
  }
 ],
 "metadata": {
  "interpreter": {
   "hash": "e99b5d9fc574ab35b2ac713fada23b806890ae47709c8d1a7c97606efc7fbf3d"
  },
  "kernelspec": {
   "display_name": "Python 3.9.5 ('mda-project')",
   "language": "python",
   "name": "python3"
  },
  "language_info": {
   "codemirror_mode": {
    "name": "ipython",
    "version": 3
   },
   "file_extension": ".py",
   "mimetype": "text/x-python",
   "name": "python",
   "nbconvert_exporter": "python",
   "pygments_lexer": "ipython3",
   "version": "3.9.5"
  },
  "orig_nbformat": 4
 },
 "nbformat": 4,
 "nbformat_minor": 2
}
