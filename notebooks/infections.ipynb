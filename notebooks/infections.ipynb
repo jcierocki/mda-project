{
 "cells": [
  {
   "cell_type": "code",
   "execution_count": 1,
   "metadata": {},
   "outputs": [],
   "source": [
    "import pandas as pd\n",
    "from datetime import datetime\n",
    "import numpy as np"
   ]
  },
  {
   "cell_type": "markdown",
   "metadata": {},
   "source": [
    "# Daily infections number"
   ]
  },
  {
   "cell_type": "code",
   "execution_count": 2,
   "metadata": {},
   "outputs": [],
   "source": [
    "county_daily_urls = ['https://raw.githubusercontent.com/nytimes/covid-19-data/master/rolling-averages/us-counties-2020.csv',\n",
    "                     'https://raw.githubusercontent.com/nytimes/covid-19-data/master/rolling-averages/us-counties-2021.csv',\n",
    "                     'https://raw.githubusercontent.com/nytimes/covid-19-data/master/rolling-averages/us-counties-2022.csv',\n",
    "                     'https://raw.githubusercontent.com/nytimes/covid-19-data/master/rolling-averages/us-counties-recent.csv'\n",
    "                    ]"
   ]
  },
  {
   "cell_type": "code",
   "execution_count": 3,
   "metadata": {},
   "outputs": [],
   "source": [
    "def get_county_daily_infections_nyt(urls):\n",
    "    county_dfs = [pd.read_csv(url) for url in urls]\n",
    "    df = pd.concat(county_dfs, ignore_index=True)\n",
    "    # Column fips\n",
    "    df. rename(columns = {'geoid':'fips'}, inplace = True)\n",
    "    df['fips'] = df['fips'].str[4:]\n",
    "    # Removing 2 columns\n",
    "    df = df.drop(['cases_avg_per_100k', 'deaths_avg_per_100k', 'cases_avg', 'deaths_avg'], axis = 1)\n",
    "    # Deleteing data for \"Unknown\" county \n",
    "    df = df.query('county != \"Unknown\"')\n",
    "    df.sort_values(by=['fips', 'date'], inplace=True)\n",
    "    # Remove duplicates\n",
    "    df = df.drop_duplicates()\n",
    "    # Add rows that are not there (dates that were without data)\n",
    "    ## Get range of dates and all unique FIPS\n",
    "    dates = pd.date_range(datetime.strptime(df['date'].agg('min'), '%Y-%m-%d'), datetime.strptime(df['date'].agg('max'), '%Y-%m-%d'))\n",
    "    unique_fips = df.fips.unique()\n",
    "    ## Map fips to counties and states\n",
    "    map_county = df.set_index('fips')['county'].dropna().to_dict()\n",
    "    map_state = df.set_index('fips')['state'].dropna().to_dict()\n",
    "    ## NumPy array with all dates in df\n",
    "    df_from_df = df[[\"date\", \"fips\"]]\n",
    "    df_from_df_new = df_from_df.to_numpy()\n",
    "    df_from_df_new = df_from_df_new.astype('<U10')\n",
    "    ## NumPy array with all dates in range\n",
    "    df_from_dates = []\n",
    "    for date in dates:\n",
    "        for fips_code in unique_fips:\n",
    "            lst = [str(date.date()), fips_code]\n",
    "            df_from_dates.append(lst)\n",
    "    df_from_dates_new = np.array(df_from_dates)\n",
    "    ## Combine 2 NumPy arrays\n",
    "    combined = np.concatenate((df_from_df_new, df_from_dates_new))\n",
    "    ## Get rows that were not in the original df\n",
    "    df_new = pd.DataFrame(combined, columns = ['date','fips'])\n",
    "    df_new_all_columns = df_new.drop_duplicates(keep=False)\n",
    "    df_new_all_columns['county'] = df_new['fips'].map(map_county)\n",
    "    df_new_all_columns['state'] = df_new['fips'].map(map_state)\n",
    "    df_new_all_columns['cases'] = 0\n",
    "    df_new_all_columns['deaths'] = 0\n",
    "    # New df with all dates\n",
    "    df = pd.concat([df, df_new_all_columns], ignore_index=True)\n",
    "    df.sort_values(by=['fips', 'date'], inplace=True)\n",
    "    df = df.drop_duplicates()\n",
    "    return df"
   ]
  },
  {
   "cell_type": "code",
   "execution_count": null,
   "metadata": {},
   "outputs": [],
   "source": [
    "county_daily_df = get_county_daily_infections_nyt(county_daily_urls)"
   ]
  },
  {
   "cell_type": "code",
   "execution_count": null,
   "metadata": {},
   "outputs": [],
   "source": [
    "county_daily_df"
   ]
  },
  {
   "cell_type": "code",
   "execution_count": null,
   "metadata": {},
   "outputs": [],
   "source": [
    "# Grouped by FIPS\n",
    "# county_grouped = county_df.groupby(county_daily_df.fips)"
   ]
  },
  {
   "cell_type": "markdown",
   "metadata": {},
   "source": [
    "# Cumulative infections"
   ]
  },
  {
   "cell_type": "code",
   "execution_count": null,
   "metadata": {},
   "outputs": [],
   "source": [
    "county_cum_urls = ['https://raw.githubusercontent.com/nytimes/covid-19-data/master/us-counties-2020.csv',\n",
    "                   'https://raw.githubusercontent.com/nytimes/covid-19-data/master/us-counties-2021.csv',\n",
    "                   'https://raw.githubusercontent.com/nytimes/covid-19-data/master/us-counties-2022.csv',\n",
    "                   'https://raw.githubusercontent.com/nytimes/covid-19-data/master/us-counties-recent.csv'\n",
    "                  ]"
   ]
  },
  {
   "cell_type": "code",
   "execution_count": null,
   "metadata": {},
   "outputs": [],
   "source": [
    "def get_county_cum_infections_nyt(urls):\n",
    "    county_dfs = [pd.read_csv(url) for url in urls]\n",
    "    df = pd.concat(county_dfs, ignore_index=True)\n",
    "    # Deleteing data for \"Unknown\" county\n",
    "    df = df.query('county != \"Unknown\"')\n",
    "    # Fill NaN values\n",
    "    m_d = (df['deaths'].isnull() == True)\n",
    "    m_c = (df['cases'].isnull() == True)\n",
    "    df.loc[m_d, 'deaths'] = 0\n",
    "    df.loc[m_c, 'cases'] = 0\n",
    "    # New York City\n",
    "    # All cases for the five boroughs of New York City (New York, Kings, Queens, Bronx and Richmond counties)\n",
    "    # are assigned to a single area called New York City. The number of deaths in New York City also includes\n",
    "    # probable deaths reported by the New York City health department.\n",
    "    # Deaths are reported by county of residence, except for certain periods described below.\n",
    "    # FIPS code for New York State\n",
    "    m_NY = (df['county'] == \"New York City\") & (df['fips'].isnull() == True)\n",
    "    df.loc[m_NY, 'fips'] = 36\n",
    "    # Kansas City\n",
    "    # Four counties (Cass, Clay, Jackson and Platte) overlap the municipality of Kansas City, Mo.\n",
    "    # The cases and deaths that we show for these four counties are only for the portions exclusive of Kansas City.\n",
    "    # Cases and deaths for Kansas City are reported as their own line.\n",
    "    # FIPS code for Kansas State\n",
    "    m_KC = (df['county'] == \"Kansas City\") & (df['fips'].isnull() == True)\n",
    "    df.loc[m_KC, 'fips'] = 20\n",
    "    # City Joplin\n",
    "    # FIPS code for the city\n",
    "    m_J = (df['county'] == \"Joplin\") & (df['fips'].isnull() == True)\n",
    "    df.loc[m_J, 'fips'] = 2937592\n",
    "    # FIPS code - change from .0\n",
    "    df = df.astype({\"fips\": int, \"deaths\": int})\n",
    "    return df"
   ]
  },
  {
   "cell_type": "code",
   "execution_count": null,
   "metadata": {},
   "outputs": [],
   "source": [
    "county_cum_df = get_county_cum_infections_nyt(county_cum_urls)"
   ]
  },
  {
   "cell_type": "code",
   "execution_count": null,
   "metadata": {},
   "outputs": [],
   "source": [
    "county_cum_df"
   ]
  }
 ],
 "metadata": {
  "kernelspec": {
   "display_name": "Python 3",
   "language": "python",
   "name": "python3"
  },
  "language_info": {
   "codemirror_mode": {
    "name": "ipython",
    "version": 3
   },
   "file_extension": ".py",
   "mimetype": "text/x-python",
   "name": "python",
   "nbconvert_exporter": "python",
   "pygments_lexer": "ipython3",
   "version": "3.8.3"
  }
 },
 "nbformat": 4,
 "nbformat_minor": 4
}
