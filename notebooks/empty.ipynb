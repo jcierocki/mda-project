{
 "cells": [
  {
   "cell_type": "code",
   "execution_count": null,
   "metadata": {},
   "outputs": [],
   "source": []
  }
 ],
 "metadata": {
  "interpreter": {
   "hash": "e99b5d9fc574ab35b2ac713fada23b806890ae47709c8d1a7c97606efc7fbf3d"
  },
  "kernelspec": {
   "display_name": "Python 3.9.5 ('mda-project')",
   "language": "python",
   "name": "python3"
  },
  "language_info": {
   "name": "python",
   "version": "3.9.5"
  },
  "orig_nbformat": 4
 },
 "nbformat": 4,
 "nbformat_minor": 2
}
