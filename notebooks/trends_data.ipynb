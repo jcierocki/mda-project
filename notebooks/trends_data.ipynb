{
 "cells": [
  {
   "cell_type": "code",
   "execution_count": 3,
   "id": "0b117fef",
   "metadata": {},
   "outputs": [],
   "source": [
    "import pandas as pd\n",
    "from pytrends.request import TrendReq\n",
    "#import requests\n",
    "#import os\n",
    "#import json"
   ]
  },
  {
   "cell_type": "markdown",
   "id": "66de6a34",
   "metadata": {},
   "source": [
    "# Google trends"
   ]
  },
  {
   "cell_type": "markdown",
   "id": "f677004a",
   "metadata": {},
   "source": [
    "This is done by using the *pytrends* package. This simply scrapes the google trends website.\n",
    "\n",
    "Documentation is found here:\n",
    "\n",
    "https://github.com/GeneralMills/pytrends"
   ]
  },
  {
   "cell_type": "code",
   "execution_count": 31,
   "id": "8df21f77",
   "metadata": {},
   "outputs": [],
   "source": [
    "def get_trends(keyword, time=0):\n",
    "    connection = TrendReq(hl='en-US', tz=360)\n",
    "    connection.build_payload(keyword, cat=0, timeframe=time, geo='US', gprop='')\n",
    "    # which data?\n",
    "    # DMA = metropolitan, REGION = state\n",
    "    result = connection.interest_by_region(resolution='REGION', inc_low_vol=True, inc_geo_code=False)\n",
    "    return result"
   ]
  },
  {
   "cell_type": "code",
   "execution_count": 128,
   "id": "bbb9e87b",
   "metadata": {},
   "outputs": [],
   "source": [
    "# try to handle exception for:\n",
    "# ReadTimeout: HTTPSConnectionPool(host='trends.google.com', port=443): Read timed out. (read timeout=5)\n",
    "def get_time(keyword):\n",
    "    # startdate = \"1/1/2022\"\n",
    "    startdate = \"15/4/2022\"\n",
    "    range = pd.date_range(start=startdate,end=pd.to_datetime(\"today\"))\n",
    "    timeframe = range.astype(\"str\") + \" \" + range.shift(periods=1).astype(\"str\")\n",
    "    # this is faster than filling up empty dataframes\n",
    "    # sources (1): https://gist.github.com/Coldsp33d/ea080f580ab3a3b75c2f40c201d50164\n",
    "    # sources (2): https://pandas.pydata.org/pandas-docs/version/0.21/generated/pandas.DataFrame.append.html\n",
    "    data = []\n",
    "    for i in timeframe:\n",
    "        result = get_trends([keyword], i)[keyword].values.tolist()\n",
    "        data.append(result)\n",
    "        print(f\"Appended {i}\")\n",
    "    dataframe = pd.DataFrame(data).T\n",
    "    states = get_trends([keyword], \"all\")[keyword].index\n",
    "    dataframe.set_index(states, inplace=True)\n",
    "    dataframe.columns = range\n",
    "    return dataframe"
   ]
  },
  {
   "cell_type": "code",
   "execution_count": 139,
   "id": "0b49cc03",
   "metadata": {},
   "outputs": [
    {
     "name": "stdout",
     "output_type": "stream",
     "text": [
      "Getting the COVID dataframe\n",
      "Appended 2022-04-15 2022-04-16\n",
      "Appended 2022-04-16 2022-04-17\n",
      "Appended 2022-04-17 2022-04-18\n",
      "Appended 2022-04-18 2022-04-19\n",
      "Appended 2022-04-19 2022-04-20\n",
      "Appended 2022-04-20 2022-04-21\n",
      "Appended 2022-04-21 2022-04-22\n",
      "Appended 2022-04-22 2022-04-23\n",
      "Appended 2022-04-23 2022-04-24\n",
      "\n",
      " Getting the Vaccines dataframe\n",
      "Appended 2022-04-15 2022-04-16\n",
      "Appended 2022-04-16 2022-04-17\n",
      "Appended 2022-04-17 2022-04-18\n",
      "Appended 2022-04-18 2022-04-19\n",
      "Appended 2022-04-19 2022-04-20\n",
      "Appended 2022-04-20 2022-04-21\n",
      "Appended 2022-04-21 2022-04-22\n",
      "Appended 2022-04-22 2022-04-23\n",
      "Appended 2022-04-23 2022-04-24\n"
     ]
    }
   ],
   "source": [
    "# Keywords are \"subjects\" constructed by the Google team\n",
    "# These consolidate the results of different search terms\n",
    "# COVID\n",
    "# this returns results about searches such as \"covid\", \"covid19\", \"covid variants\", etc\n",
    "print(\"Getting the COVID dataframe\")\n",
    "covid_df = get_time(\"Coronavirus disease 2019\")\n",
    "# VACCINES\n",
    "# this returns results about searches such as \"covid vaccine\", \"booster shot near me\", \"Pfizer-BioNTech COVID-19 vaccine\"\n",
    "print(\"\\nGetting the Vaccines dataframe\")\n",
    "vaccine_df = get_time(\"COVID-19-vaccine\")"
   ]
  },
  {
   "cell_type": "code",
   "execution_count": null,
   "id": "cf3311a0",
   "metadata": {},
   "outputs": [],
   "source": [
    "#covid_df\n",
    "#covid_df.T.stack()\n",
    "#vaccine_df\n",
    "#vaccine_df.T.stack()"
   ]
  },
  {
   "cell_type": "code",
   "execution_count": null,
   "id": "2989a61a",
   "metadata": {},
   "outputs": [],
   "source": []
  }
 ],
 "metadata": {
  "kernelspec": {
   "display_name": "Python 3",
   "language": "python",
   "name": "python3"
  },
  "language_info": {
   "codemirror_mode": {
    "name": "ipython",
    "version": 3
   },
   "file_extension": ".py",
   "mimetype": "text/x-python",
   "name": "python",
   "nbconvert_exporter": "python",
   "pygments_lexer": "ipython3",
   "version": "3.8.8"
  },
  "toc": {
   "base_numbering": 1,
   "nav_menu": {},
   "number_sections": true,
   "sideBar": true,
   "skip_h1_title": false,
   "title_cell": "Table of Contents",
   "title_sidebar": "Contents",
   "toc_cell": false,
   "toc_position": {},
   "toc_section_display": true,
   "toc_window_display": false
  }
 },
 "nbformat": 4,
 "nbformat_minor": 5
}
