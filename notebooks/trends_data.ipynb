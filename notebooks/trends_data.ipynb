{
 "cells": [
  {
   "cell_type": "code",
   "execution_count": 3,
   "id": "0b117fef",
   "metadata": {},
   "outputs": [],
   "source": [
    "import pandas as pd\n",
    "import requests\n",
    "import os\n",
    "import json"
   ]
  },
  {
   "cell_type": "markdown",
   "id": "66de6a34",
   "metadata": {},
   "source": [
    "# Google trends"
   ]
  },
  {
   "cell_type": "markdown",
   "id": "f677004a",
   "metadata": {},
   "source": [
    "This is done by using the *pytrends* package. This simply scrapes the google trends website."
   ]
  },
  {
   "cell_type": "code",
   "execution_count": 4,
   "id": "413fa619",
   "metadata": {},
   "outputs": [],
   "source": [
    "#!pip install pytrends\n",
    "from pytrends.request import TrendReq\n",
    "# documentation: https://github.com/GeneralMills/pytrends"
   ]
  },
  {
   "cell_type": "code",
   "execution_count": 31,
   "id": "8df21f77",
   "metadata": {},
   "outputs": [],
   "source": [
    "def get_trends(keyword, time=0):\n",
    "    connection = TrendReq(hl='en-US', tz=360)\n",
    "    connection.build_payload(keyword, cat=0, timeframe=time, geo='US', gprop='')\n",
    "    # which data?\n",
    "    # DMA = metropolitan, REGION = state\n",
    "    result = connection.interest_by_region(resolution='REGION', inc_low_vol=True, inc_geo_code=False)\n",
    "    return result"
   ]
  },
  {
   "cell_type": "code",
   "execution_count": 128,
   "id": "bbb9e87b",
   "metadata": {},
   "outputs": [],
   "source": [
    "# try to handle exception for:\n",
    "# ReadTimeout: HTTPSConnectionPool(host='trends.google.com', port=443): Read timed out. (read timeout=5)\n",
    "def get_time(keyword):\n",
    "    # startdate = \"1/1/2022\"\n",
    "    startdate = \"15/4/2022\"\n",
    "    range = pd.date_range(start=startdate,end=pd.to_datetime(\"today\"))\n",
    "    timeframe = range.astype(\"str\") + \" \" + range.shift(periods=1).astype(\"str\")\n",
    "    # this is faster than filling up empty dataframes\n",
    "    # sources (1): https://gist.github.com/Coldsp33d/ea080f580ab3a3b75c2f40c201d50164\n",
    "    # sources (2): https://pandas.pydata.org/pandas-docs/version/0.21/generated/pandas.DataFrame.append.html\n",
    "    data = []\n",
    "    for i in timeframe:\n",
    "        result = get_trends([keyword], i)[keyword].values.tolist()\n",
    "        data.append(result)\n",
    "        print(f\"Appended {i}\")\n",
    "    dataframe = pd.DataFrame(data).T\n",
    "    states = get_trends([keyword], \"all\")[keyword].index\n",
    "    dataframe.set_index(states, inplace=True)\n",
    "    dataframe.columns = range\n",
    "    return dataframe"
   ]
  },
  {
   "cell_type": "code",
   "execution_count": 139,
   "id": "0b49cc03",
   "metadata": {},
   "outputs": [
    {
     "name": "stdout",
     "output_type": "stream",
     "text": [
      "Getting the COVID dataframe\n",
      "Appended 2022-04-15 2022-04-16\n",
      "Appended 2022-04-16 2022-04-17\n",
      "Appended 2022-04-17 2022-04-18\n",
      "Appended 2022-04-18 2022-04-19\n",
      "Appended 2022-04-19 2022-04-20\n",
      "Appended 2022-04-20 2022-04-21\n",
      "Appended 2022-04-21 2022-04-22\n",
      "Appended 2022-04-22 2022-04-23\n",
      "Appended 2022-04-23 2022-04-24\n",
      "\n",
      " Getting the Vaccines dataframe\n",
      "Appended 2022-04-15 2022-04-16\n",
      "Appended 2022-04-16 2022-04-17\n",
      "Appended 2022-04-17 2022-04-18\n",
      "Appended 2022-04-18 2022-04-19\n",
      "Appended 2022-04-19 2022-04-20\n",
      "Appended 2022-04-20 2022-04-21\n",
      "Appended 2022-04-21 2022-04-22\n",
      "Appended 2022-04-22 2022-04-23\n",
      "Appended 2022-04-23 2022-04-24\n"
     ]
    }
   ],
   "source": [
    "# Keywords are \"subjects\" constructed by the Google team\n",
    "# These consolidate the results of different search terms\n",
    "# COVID\n",
    "# this returns results about searches such as \"covid\", \"covid19\", \"covid variants\", etc\n",
    "print(\"Getting the COVID dataframe\")\n",
    "covid_df = get_time(\"Coronavirus disease 2019\")\n",
    "# VACCINES\n",
    "# this returns results about searches such as \"covid vaccine\", \"booster shot near me\", \"Pfizer-BioNTech COVID-19 vaccine\"\n",
    "print(\"\\nGetting the Vaccines dataframe\")\n",
    "vaccine_df = get_time(\"COVID-19-vaccine\")"
   ]
  },
  {
   "cell_type": "code",
   "execution_count": null,
   "id": "cf3311a0",
   "metadata": {},
   "outputs": [],
   "source": [
    "#covid_df\n",
    "#covid_df.T.stack()\n",
    "#vaccine_df\n",
    "#vaccine_df.T.stack()"
   ]
  },
  {
   "cell_type": "markdown",
   "id": "8bc27955",
   "metadata": {},
   "source": [
    "# Twitter "
   ]
  },
  {
   "cell_type": "markdown",
   "id": "ab7d960b",
   "metadata": {},
   "source": [
    "Access to tweet counts is restricted for academic research. Therefore, we do not directly use the Twitter API."
   ]
  },
  {
   "cell_type": "code",
   "execution_count": 5,
   "id": "bab4e0df",
   "metadata": {},
   "outputs": [],
   "source": [
    "datasource = \"./data/tweets/\""
   ]
  },
  {
   "cell_type": "code",
   "execution_count": 6,
   "id": "53145508",
   "metadata": {},
   "outputs": [],
   "source": [
    "arr = os.listdir(datasource)"
   ]
  },
  {
   "cell_type": "code",
   "execution_count": 8,
   "id": "0c76fa29",
   "metadata": {},
   "outputs": [
    {
     "data": {
      "text/plain": [
       "'2021_02.zip'"
      ]
     },
     "execution_count": 8,
     "metadata": {},
     "output_type": "execute_result"
    }
   ],
   "source": [
    "arr[0]"
   ]
  },
  {
   "cell_type": "code",
   "execution_count": 9,
   "id": "255eb1a3",
   "metadata": {},
   "outputs": [],
   "source": [
    "from zipfile import ZipFile"
   ]
  },
  {
   "cell_type": "code",
   "execution_count": 11,
   "id": "5d86207c",
   "metadata": {},
   "outputs": [],
   "source": [
    "with ZipFile(datasource+arr[0], 'r') as zipobject:\n",
    "    filelist = zipobject.namelist()"
   ]
  },
  {
   "cell_type": "code",
   "execution_count": 20,
   "id": "9c45509f",
   "metadata": {},
   "outputs": [],
   "source": [
    "zipobject = ZipFile(datasource+arr[0], 'r')\n",
    "filelist = zipobject.namelist()\n"
   ]
  },
  {
   "cell_type": "code",
   "execution_count": 21,
   "id": "62cc5eb7",
   "metadata": {},
   "outputs": [
    {
     "data": {
      "text/plain": [
       "['2021_02/',\n",
       " '2021_02/2021_february28_march1.csv',\n",
       " '__MACOSX/',\n",
       " '__MACOSX/2021_02/',\n",
       " '__MACOSX/2021_02/._2021_february28_march1.csv',\n",
       " '2021_02/2021_february27_february28.csv',\n",
       " '__MACOSX/2021_02/._2021_february27_february28.csv',\n",
       " '2021_02/2021_february9_february10.csv',\n",
       " '__MACOSX/2021_02/._2021_february9_february10.csv',\n",
       " '2021_02/2021_february6_february7.csv',\n",
       " '__MACOSX/2021_02/._2021_february6_february7.csv',\n",
       " '2021_02/2021_february7_february8.csv',\n",
       " '__MACOSX/2021_02/._2021_february7_february8.csv',\n",
       " '2021_02/2021_february1_february2.csv',\n",
       " '__MACOSX/2021_02/._2021_february1_february2.csv',\n",
       " '2021_02/2021_february2_february3.csv',\n",
       " '__MACOSX/2021_02/._2021_february2_february3.csv',\n",
       " '2021_02/2021_february17_february18.csv',\n",
       " '__MACOSX/2021_02/._2021_february17_february18.csv',\n",
       " '2021_02/2021_february5_february6.csv',\n",
       " '__MACOSX/2021_02/._2021_february5_february6.csv',\n",
       " '2021_02/2021_february18_february19.csv',\n",
       " '__MACOSX/2021_02/._2021_february18_february19.csv',\n",
       " '2021_02/2021_february19_february20.csv',\n",
       " '__MACOSX/2021_02/._2021_february19_february20.csv',\n",
       " '2021_02/2021_february22_february23.csv',\n",
       " '__MACOSX/2021_02/._2021_february22_february23.csv',\n",
       " '2021_02/2021_february24_february25.csv',\n",
       " '__MACOSX/2021_02/._2021_february24_february25.csv',\n",
       " '2021_02/2021_february4_february5.csv',\n",
       " '__MACOSX/2021_02/._2021_february4_february5.csv',\n",
       " '2021_02/2021_february23_february24.csv',\n",
       " '__MACOSX/2021_02/._2021_february23_february24.csv',\n",
       " '2021_02/2021_february11_february12.csv',\n",
       " '__MACOSX/2021_02/._2021_february11_february12.csv',\n",
       " '2021_02/2021_february25_february26.csv',\n",
       " '__MACOSX/2021_02/._2021_february25_february26.csv',\n",
       " '2021_02/2021_february3_february4.csv',\n",
       " '__MACOSX/2021_02/._2021_february3_february4.csv',\n",
       " '2021_02/2021_february10_february11.csv',\n",
       " '__MACOSX/2021_02/._2021_february10_february11.csv',\n",
       " '2021_02/2021_february16_february17.csv',\n",
       " '__MACOSX/2021_02/._2021_february16_february17.csv',\n",
       " '2021_02/2021_february21_february22.csv',\n",
       " '__MACOSX/2021_02/._2021_february21_february22.csv',\n",
       " '2021_02/2021_february13_february14.csv',\n",
       " '__MACOSX/2021_02/._2021_february13_february14.csv',\n",
       " '2021_02/2021_february8_february9.csv',\n",
       " '__MACOSX/2021_02/._2021_february8_february9.csv',\n",
       " '2021_02/2021_february14_february15.csv',\n",
       " '__MACOSX/2021_02/._2021_february14_february15.csv',\n",
       " '2021_02/2021_february12_february13.csv',\n",
       " '__MACOSX/2021_02/._2021_february12_february13.csv',\n",
       " '2021_02/2021_february26_february27.csv',\n",
       " '__MACOSX/2021_02/._2021_february26_february27.csv',\n",
       " '2021_02/2021_february20_february21.csv',\n",
       " '__MACOSX/2021_02/._2021_february20_february21.csv',\n",
       " '2021_02/2021_february15_february16.csv',\n",
       " '__MACOSX/2021_02/._2021_february15_february16.csv']"
      ]
     },
     "execution_count": 21,
     "metadata": {},
     "output_type": "execute_result"
    }
   ],
   "source": [
    "filelist"
   ]
  },
  {
   "cell_type": "code",
   "execution_count": 22,
   "id": "0aaa1575",
   "metadata": {},
   "outputs": [],
   "source": [
    "csv_files = list(filter(lambda f: f.endswith('.csv'), filelist))\n"
   ]
  },
  {
   "cell_type": "code",
   "execution_count": 15,
   "id": "2cf99fa6",
   "metadata": {},
   "outputs": [],
   "source": [
    "import pandas as pd"
   ]
  },
  {
   "cell_type": "code",
   "execution_count": 23,
   "id": "2df11ce2",
   "metadata": {},
   "outputs": [
    {
     "data": {
      "text/html": [
       "<div>\n",
       "<style scoped>\n",
       "    .dataframe tbody tr th:only-of-type {\n",
       "        vertical-align: middle;\n",
       "    }\n",
       "\n",
       "    .dataframe tbody tr th {\n",
       "        vertical-align: top;\n",
       "    }\n",
       "\n",
       "    .dataframe thead th {\n",
       "        text-align: right;\n",
       "    }\n",
       "</style>\n",
       "<table border=\"1\" class=\"dataframe\">\n",
       "  <thead>\n",
       "    <tr style=\"text-align: right;\">\n",
       "      <th></th>\n",
       "      <th>1365881633195360258</th>\n",
       "      <th>0.02121212121212121</th>\n",
       "    </tr>\n",
       "  </thead>\n",
       "  <tbody>\n",
       "    <tr>\n",
       "      <th>0</th>\n",
       "      <td>1365882679640477696</td>\n",
       "      <td>0.000000</td>\n",
       "    </tr>\n",
       "    <tr>\n",
       "      <th>1</th>\n",
       "      <td>1365882680743657473</td>\n",
       "      <td>0.000000</td>\n",
       "    </tr>\n",
       "    <tr>\n",
       "      <th>2</th>\n",
       "      <td>1365882681855074317</td>\n",
       "      <td>-0.200000</td>\n",
       "    </tr>\n",
       "    <tr>\n",
       "      <th>3</th>\n",
       "      <td>1365882684984201227</td>\n",
       "      <td>0.000000</td>\n",
       "    </tr>\n",
       "    <tr>\n",
       "      <th>4</th>\n",
       "      <td>1365882685038727168</td>\n",
       "      <td>0.333333</td>\n",
       "    </tr>\n",
       "    <tr>\n",
       "      <th>...</th>\n",
       "      <td>...</td>\n",
       "      <td>...</td>\n",
       "    </tr>\n",
       "    <tr>\n",
       "      <th>575</th>\n",
       "      <td>1366240150414573571</td>\n",
       "      <td>0.500000</td>\n",
       "    </tr>\n",
       "    <tr>\n",
       "      <th>576</th>\n",
       "      <td>1366240657711407106</td>\n",
       "      <td>-0.151852</td>\n",
       "    </tr>\n",
       "    <tr>\n",
       "      <th>577</th>\n",
       "      <td>1366240688556437506</td>\n",
       "      <td>0.095833</td>\n",
       "    </tr>\n",
       "    <tr>\n",
       "      <th>578</th>\n",
       "      <td>1366241468004921348</td>\n",
       "      <td>0.000000</td>\n",
       "    </tr>\n",
       "    <tr>\n",
       "      <th>579</th>\n",
       "      <td>1366241468789227522</td>\n",
       "      <td>0.000000</td>\n",
       "    </tr>\n",
       "  </tbody>\n",
       "</table>\n",
       "<p>580 rows × 2 columns</p>\n",
       "</div>"
      ],
      "text/plain": [
       "     1365881633195360258  0.02121212121212121\n",
       "0    1365882679640477696             0.000000\n",
       "1    1365882680743657473             0.000000\n",
       "2    1365882681855074317            -0.200000\n",
       "3    1365882684984201227             0.000000\n",
       "4    1365882685038727168             0.333333\n",
       "..                   ...                  ...\n",
       "575  1366240150414573571             0.500000\n",
       "576  1366240657711407106            -0.151852\n",
       "577  1366240688556437506             0.095833\n",
       "578  1366241468004921348             0.000000\n",
       "579  1366241468789227522             0.000000\n",
       "\n",
       "[580 rows x 2 columns]"
      ]
     },
     "execution_count": 23,
     "metadata": {},
     "output_type": "execute_result"
    }
   ],
   "source": [
    "pd.read_csv(zipobject.open(csv_files[0]))"
   ]
  },
  {
   "cell_type": "code",
   "execution_count": 30,
   "id": "c7675e19",
   "metadata": {},
   "outputs": [
    {
     "name": "stdout",
     "output_type": "stream",
     "text": [
      "Requirement already satisfied: twarc in /Users/tristanvandevelde/opt/anaconda3/lib/python3.8/site-packages (2.10.3)\n",
      "Requirement already satisfied: humanize>=3.9 in /Users/tristanvandevelde/opt/anaconda3/lib/python3.8/site-packages (from twarc) (4.0.0)\n",
      "Requirement already satisfied: click-plugins>=1 in /Users/tristanvandevelde/opt/anaconda3/lib/python3.8/site-packages (from twarc) (1.1.1)\n",
      "Requirement already satisfied: tqdm>=4.62 in /Users/tristanvandevelde/opt/anaconda3/lib/python3.8/site-packages (from twarc) (4.64.0)\n",
      "Requirement already satisfied: python-dateutil>=2.8 in /Users/tristanvandevelde/opt/anaconda3/lib/python3.8/site-packages (from twarc) (2.8.1)\n",
      "Requirement already satisfied: click-config-file>=0.6 in /Users/tristanvandevelde/opt/anaconda3/lib/python3.8/site-packages (from twarc) (0.6.0)\n",
      "Requirement already satisfied: requests-oauthlib>=1.3 in /Users/tristanvandevelde/opt/anaconda3/lib/python3.8/site-packages (from twarc) (1.3.0)\n",
      "Requirement already satisfied: click<9,>=7 in /Users/tristanvandevelde/opt/anaconda3/lib/python3.8/site-packages (from twarc) (7.1.2)\n",
      "Requirement already satisfied: configobj>=5.0.6 in /Users/tristanvandevelde/opt/anaconda3/lib/python3.8/site-packages (from click-config-file>=0.6->twarc) (5.0.6)\n",
      "Requirement already satisfied: six in /Users/tristanvandevelde/opt/anaconda3/lib/python3.8/site-packages (from configobj>=5.0.6->click-config-file>=0.6->twarc) (1.15.0)\n",
      "Requirement already satisfied: requests>=2.0.0 in /Users/tristanvandevelde/opt/anaconda3/lib/python3.8/site-packages (from requests-oauthlib>=1.3->twarc) (2.25.1)\n",
      "Requirement already satisfied: oauthlib>=3.0.0 in /Users/tristanvandevelde/opt/anaconda3/lib/python3.8/site-packages (from requests-oauthlib>=1.3->twarc) (3.1.1)\n",
      "Requirement already satisfied: idna<3,>=2.5 in /Users/tristanvandevelde/opt/anaconda3/lib/python3.8/site-packages (from requests>=2.0.0->requests-oauthlib>=1.3->twarc) (2.10)\n",
      "Requirement already satisfied: certifi>=2017.4.17 in /Users/tristanvandevelde/opt/anaconda3/lib/python3.8/site-packages (from requests>=2.0.0->requests-oauthlib>=1.3->twarc) (2020.12.5)\n",
      "Requirement already satisfied: urllib3<1.27,>=1.21.1 in /Users/tristanvandevelde/opt/anaconda3/lib/python3.8/site-packages (from requests>=2.0.0->requests-oauthlib>=1.3->twarc) (1.26.4)\n",
      "Requirement already satisfied: chardet<5,>=3.0.2 in /Users/tristanvandevelde/opt/anaconda3/lib/python3.8/site-packages (from requests>=2.0.0->requests-oauthlib>=1.3->twarc) (4.0.0)\n",
      "Collecting python-dotenv\n",
      "  Downloading python_dotenv-0.20.0-py3-none-any.whl (17 kB)\n",
      "Installing collected packages: python-dotenv\n",
      "Successfully installed python-dotenv-0.20.0\n"
     ]
    }
   ],
   "source": [
    "!pip install twarc\n",
    "!pip install python-dotenv"
   ]
  },
  {
   "cell_type": "code",
   "execution_count": 31,
   "id": "4a2fa7a1",
   "metadata": {},
   "outputs": [],
   "source": [
    "from twarc import Twarc\n",
    "from dotenv import load_dotenv"
   ]
  },
  {
   "cell_type": "code",
   "execution_count": 33,
   "id": "45dd7373",
   "metadata": {},
   "outputs": [
    {
     "data": {
      "text/plain": [
       "True"
      ]
     },
     "execution_count": 33,
     "metadata": {},
     "output_type": "execute_result"
    }
   ],
   "source": [
    "# load your environment variables \n",
    "#BASEDIR = os.path.abspath(os.path.dirname(__file__))\n",
    "#load_dotenv(os.path.join(BASEDIR, '.env'))\n",
    "load_dotenv('credentials.env')"
   ]
  },
  {
   "cell_type": "code",
   "execution_count": 36,
   "id": "c358f893",
   "metadata": {},
   "outputs": [],
   "source": [
    "t_inst = Twarc(os.getenv(\"consumer_key\"), \n",
    "               os.getenv(\"consumer_secret\"), \n",
    "               os.getenv(\"access_token\"), \n",
    "               os.getenv(\"access_token_secret\"))"
   ]
  },
  {
   "cell_type": "code",
   "execution_count": 38,
   "id": "43dab892",
   "metadata": {},
   "outputs": [
    {
     "name": "stdout",
     "output_type": "stream",
     "text": [
      "Collecting wget\n",
      "  Downloading wget-3.2.zip (10 kB)\n",
      "Building wheels for collected packages: wget\n",
      "  Building wheel for wget (setup.py) ... \u001b[?25ldone\n",
      "\u001b[?25h  Created wheel for wget: filename=wget-3.2-py3-none-any.whl size=9680 sha256=9c9dc31f049064f34a2226c058490951538f7481c5accd006853ebbccffed95c\n",
      "  Stored in directory: /Users/tristanvandevelde/Library/Caches/pip/wheels/bd/a8/c3/3cf2c14a1837a4e04bd98631724e81f33f462d86a1d895fae0\n",
      "Successfully built wget\n",
      "Installing collected packages: wget\n",
      "Successfully installed wget-3.2\n"
     ]
    }
   ],
   "source": [
    "!pip install wget\n",
    "import wget"
   ]
  },
  {
   "cell_type": "code",
   "execution_count": 39,
   "id": "093a4353",
   "metadata": {},
   "outputs": [],
   "source": [
    "dataset_URL = \"https://github.com/thepanacealab/covid19_twitter/blob/master/dailies/2021-01-20/2021-01-20_clean-dataset.tsv.gz?raw=true\" #@param {type:\"string\"}"
   ]
  },
  {
   "cell_type": "code",
   "execution_count": 40,
   "id": "57ae917c",
   "metadata": {},
   "outputs": [
    {
     "data": {
      "text/plain": [
       "'clean-dataset.tsv.gz'"
      ]
     },
     "execution_count": 40,
     "metadata": {},
     "output_type": "execute_result"
    }
   ],
   "source": [
    "wget.download(dataset_URL, out='clean-dataset.tsv.gz')"
   ]
  },
  {
   "cell_type": "code",
   "execution_count": 43,
   "id": "6c2ef5f5",
   "metadata": {},
   "outputs": [],
   "source": [
    "import shutil\n",
    "import gzip"
   ]
  },
  {
   "cell_type": "code",
   "execution_count": 44,
   "id": "711f1f73",
   "metadata": {},
   "outputs": [],
   "source": [
    "#Unzips the dataset and gets the TSV dataset\n",
    "with gzip.open('clean-dataset.tsv.gz', 'rb') as f_in:\n",
    "    with open('clean-dataset.tsv', 'wb') as f_out:\n",
    "        shutil.copyfileobj(f_in, f_out)"
   ]
  },
  {
   "cell_type": "code",
   "execution_count": 45,
   "id": "7f37cf4f",
   "metadata": {},
   "outputs": [],
   "source": [
    "#Deletes the compressed GZ file\n",
    "os.unlink(\"clean-dataset.tsv.gz\")"
   ]
  },
  {
   "cell_type": "code",
   "execution_count": 46,
   "id": "58542e8d",
   "metadata": {},
   "outputs": [],
   "source": [
    "df = pd.read_csv('clean-dataset.tsv',sep=\"\\t\")"
   ]
  },
  {
   "cell_type": "code",
   "execution_count": 61,
   "id": "eebb820e",
   "metadata": {},
   "outputs": [],
   "source": [
    "df.head()\n",
    "df[\"country_code\"].unique() # US is in there\n",
    "df_tweets = df.loc[df[\"country_code\"] == \"US\"]"
   ]
  },
  {
   "cell_type": "code",
   "execution_count": 71,
   "id": "dcd4f6ba",
   "metadata": {},
   "outputs": [
    {
     "data": {
      "text/html": [
       "<div>\n",
       "<style scoped>\n",
       "    .dataframe tbody tr th:only-of-type {\n",
       "        vertical-align: middle;\n",
       "    }\n",
       "\n",
       "    .dataframe tbody tr th {\n",
       "        vertical-align: top;\n",
       "    }\n",
       "\n",
       "    .dataframe thead th {\n",
       "        text-align: right;\n",
       "    }\n",
       "</style>\n",
       "<table border=\"1\" class=\"dataframe\">\n",
       "  <thead>\n",
       "    <tr style=\"text-align: right;\">\n",
       "      <th></th>\n",
       "      <th>tweet_id</th>\n",
       "      <th>date</th>\n",
       "      <th>time</th>\n",
       "      <th>lang</th>\n",
       "      <th>country_code</th>\n",
       "    </tr>\n",
       "  </thead>\n",
       "  <tbody>\n",
       "    <tr>\n",
       "      <th>537</th>\n",
       "      <td>1351758157547249664</td>\n",
       "      <td>2021-01-20</td>\n",
       "      <td>05:07:13</td>\n",
       "      <td>en</td>\n",
       "      <td>US</td>\n",
       "    </tr>\n",
       "    <tr>\n",
       "      <th>827</th>\n",
       "      <td>1351758525475688448</td>\n",
       "      <td>2021-01-20</td>\n",
       "      <td>05:08:41</td>\n",
       "      <td>en</td>\n",
       "      <td>US</td>\n",
       "    </tr>\n",
       "    <tr>\n",
       "      <th>875</th>\n",
       "      <td>1351758616303263746</td>\n",
       "      <td>2021-01-20</td>\n",
       "      <td>05:09:03</td>\n",
       "      <td>en</td>\n",
       "      <td>US</td>\n",
       "    </tr>\n",
       "    <tr>\n",
       "      <th>959</th>\n",
       "      <td>1351758726995169281</td>\n",
       "      <td>2021-01-20</td>\n",
       "      <td>05:09:29</td>\n",
       "      <td>en</td>\n",
       "      <td>US</td>\n",
       "    </tr>\n",
       "    <tr>\n",
       "      <th>977</th>\n",
       "      <td>1351758761099194369</td>\n",
       "      <td>2021-01-20</td>\n",
       "      <td>05:09:37</td>\n",
       "      <td>en</td>\n",
       "      <td>US</td>\n",
       "    </tr>\n",
       "  </tbody>\n",
       "</table>\n",
       "</div>"
      ],
      "text/plain": [
       "                tweet_id        date      time lang country_code\n",
       "537  1351758157547249664  2021-01-20  05:07:13   en           US\n",
       "827  1351758525475688448  2021-01-20  05:08:41   en           US\n",
       "875  1351758616303263746  2021-01-20  05:09:03   en           US\n",
       "959  1351758726995169281  2021-01-20  05:09:29   en           US\n",
       "977  1351758761099194369  2021-01-20  05:09:37   en           US"
      ]
     },
     "execution_count": 71,
     "metadata": {},
     "output_type": "execute_result"
    }
   ],
   "source": [
    "df_tweets.head()"
   ]
  },
  {
   "cell_type": "code",
   "execution_count": 73,
   "id": "c0fc701f",
   "metadata": {},
   "outputs": [
    {
     "data": {
      "text/html": [
       "<div>\n",
       "<style scoped>\n",
       "    .dataframe tbody tr th:only-of-type {\n",
       "        vertical-align: middle;\n",
       "    }\n",
       "\n",
       "    .dataframe tbody tr th {\n",
       "        vertical-align: top;\n",
       "    }\n",
       "\n",
       "    .dataframe thead th {\n",
       "        text-align: right;\n",
       "    }\n",
       "</style>\n",
       "<table border=\"1\" class=\"dataframe\">\n",
       "  <thead>\n",
       "    <tr style=\"text-align: right;\">\n",
       "      <th></th>\n",
       "      <th>tweet_id</th>\n",
       "      <th>date</th>\n",
       "      <th>time</th>\n",
       "      <th>lang</th>\n",
       "      <th>country_code</th>\n",
       "    </tr>\n",
       "  </thead>\n",
       "  <tbody>\n",
       "    <tr>\n",
       "      <th>537</th>\n",
       "      <td>1351758157547249664</td>\n",
       "      <td>2021-01-20</td>\n",
       "      <td>05:07:13</td>\n",
       "      <td>en</td>\n",
       "      <td>US</td>\n",
       "    </tr>\n",
       "    <tr>\n",
       "      <th>827</th>\n",
       "      <td>1351758525475688448</td>\n",
       "      <td>2021-01-20</td>\n",
       "      <td>05:08:41</td>\n",
       "      <td>en</td>\n",
       "      <td>US</td>\n",
       "    </tr>\n",
       "    <tr>\n",
       "      <th>875</th>\n",
       "      <td>1351758616303263746</td>\n",
       "      <td>2021-01-20</td>\n",
       "      <td>05:09:03</td>\n",
       "      <td>en</td>\n",
       "      <td>US</td>\n",
       "    </tr>\n",
       "    <tr>\n",
       "      <th>959</th>\n",
       "      <td>1351758726995169281</td>\n",
       "      <td>2021-01-20</td>\n",
       "      <td>05:09:29</td>\n",
       "      <td>en</td>\n",
       "      <td>US</td>\n",
       "    </tr>\n",
       "    <tr>\n",
       "      <th>977</th>\n",
       "      <td>1351758761099194369</td>\n",
       "      <td>2021-01-20</td>\n",
       "      <td>05:09:37</td>\n",
       "      <td>en</td>\n",
       "      <td>US</td>\n",
       "    </tr>\n",
       "    <tr>\n",
       "      <th>...</th>\n",
       "      <td>...</td>\n",
       "      <td>...</td>\n",
       "      <td>...</td>\n",
       "      <td>...</td>\n",
       "      <td>...</td>\n",
       "    </tr>\n",
       "    <tr>\n",
       "      <th>423609</th>\n",
       "      <td>1352118387602718720</td>\n",
       "      <td>2021-01-21</td>\n",
       "      <td>04:58:39</td>\n",
       "      <td>en</td>\n",
       "      <td>US</td>\n",
       "    </tr>\n",
       "    <tr>\n",
       "      <th>423678</th>\n",
       "      <td>1352118504263094272</td>\n",
       "      <td>2021-01-21</td>\n",
       "      <td>04:59:07</td>\n",
       "      <td>en</td>\n",
       "      <td>US</td>\n",
       "    </tr>\n",
       "    <tr>\n",
       "      <th>424181</th>\n",
       "      <td>1352119098042322944</td>\n",
       "      <td>2021-01-21</td>\n",
       "      <td>05:01:28</td>\n",
       "      <td>und</td>\n",
       "      <td>US</td>\n",
       "    </tr>\n",
       "    <tr>\n",
       "      <th>424398</th>\n",
       "      <td>1352119477694042121</td>\n",
       "      <td>2021-01-21</td>\n",
       "      <td>05:02:59</td>\n",
       "      <td>en</td>\n",
       "      <td>US</td>\n",
       "    </tr>\n",
       "    <tr>\n",
       "      <th>424591</th>\n",
       "      <td>1352119835379990533</td>\n",
       "      <td>2021-01-21</td>\n",
       "      <td>05:04:24</td>\n",
       "      <td>en</td>\n",
       "      <td>US</td>\n",
       "    </tr>\n",
       "  </tbody>\n",
       "</table>\n",
       "<p>2183 rows × 5 columns</p>\n",
       "</div>"
      ],
      "text/plain": [
       "                   tweet_id        date      time lang country_code\n",
       "537     1351758157547249664  2021-01-20  05:07:13   en           US\n",
       "827     1351758525475688448  2021-01-20  05:08:41   en           US\n",
       "875     1351758616303263746  2021-01-20  05:09:03   en           US\n",
       "959     1351758726995169281  2021-01-20  05:09:29   en           US\n",
       "977     1351758761099194369  2021-01-20  05:09:37   en           US\n",
       "...                     ...         ...       ...  ...          ...\n",
       "423609  1352118387602718720  2021-01-21  04:58:39   en           US\n",
       "423678  1352118504263094272  2021-01-21  04:59:07   en           US\n",
       "424181  1352119098042322944  2021-01-21  05:01:28  und           US\n",
       "424398  1352119477694042121  2021-01-21  05:02:59   en           US\n",
       "424591  1352119835379990533  2021-01-21  05:04:24   en           US\n",
       "\n",
       "[2183 rows x 5 columns]"
      ]
     },
     "execution_count": 73,
     "metadata": {},
     "output_type": "execute_result"
    }
   ],
   "source": [
    "df_tweets.sort_values(by=[\"date\", \"time\"], axis=0)\n",
    "# check timeframe"
   ]
  },
  {
   "cell_type": "code",
   "execution_count": 70,
   "id": "b894f616",
   "metadata": {},
   "outputs": [
    {
     "data": {
      "text/plain": [
       "2183"
      ]
     },
     "execution_count": 70,
     "metadata": {},
     "output_type": "execute_result"
    }
   ],
   "source": [
    "# this is what we'll put through the API\n",
    "tweet_IDs = df_tweets[\"tweet_id\"].values\n",
    "tweet_IDs.size"
   ]
  },
  {
   "cell_type": "code",
   "execution_count": null,
   "id": "2989a61a",
   "metadata": {},
   "outputs": [],
   "source": [
    "# fuck this is just today"
   ]
  }
 ],
 "metadata": {
  "kernelspec": {
   "display_name": "Python 3",
   "language": "python",
   "name": "python3"
  },
  "language_info": {
   "codemirror_mode": {
    "name": "ipython",
    "version": 3
   },
   "file_extension": ".py",
   "mimetype": "text/x-python",
   "name": "python",
   "nbconvert_exporter": "python",
   "pygments_lexer": "ipython3",
   "version": "3.8.8"
  },
  "toc": {
   "base_numbering": 1,
   "nav_menu": {},
   "number_sections": true,
   "sideBar": true,
   "skip_h1_title": false,
   "title_cell": "Table of Contents",
   "title_sidebar": "Contents",
   "toc_cell": false,
   "toc_position": {},
   "toc_section_display": true,
   "toc_window_display": false
  }
 },
 "nbformat": 4,
 "nbformat_minor": 5
}
